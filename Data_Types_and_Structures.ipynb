{
  "nbformat": 4,
  "nbformat_minor": 0,
  "metadata": {
    "colab": {
      "provenance": [],
      "authorship_tag": "ABX9TyMKY5jw68Deie9OGv5/3bdH",
      "include_colab_link": true
    },
    "kernelspec": {
      "name": "python3",
      "display_name": "Python 3"
    },
    "language_info": {
      "name": "python"
    }
  },
  "cells": [
    {
      "cell_type": "markdown",
      "metadata": {
        "id": "view-in-github",
        "colab_type": "text"
      },
      "source": [
        "<a href=\"https://colab.research.google.com/github/singhsoni55/sweta/blob/main/Data_Types_and_Structures.ipynb\" target=\"_parent\"><img src=\"https://colab.research.google.com/assets/colab-badge.svg\" alt=\"Open In Colab\"/></a>"
      ]
    },
    {
      "cell_type": "markdown",
      "source": [
        "## THEORY ANSWER\n",
        "\n",
        "##Q1) What are data structures, and why are they important ?\n",
        "\n",
        "Ans: Data structures are ways of organizing and storing data efficiently to enable quick access and manipulation. Common examples include arrays, linked lists, stacks, queues, trees, and graphs. They are important because they improve the efficiency of algorithms, optimize memory usage, help organize data logically, and are essential for solving real-world problems like network routing, database management, and social networks. Choosing the right data structure is crucial for the performance and scalability of software applications.\n",
        "\n",
        "Arrays: A collection of elements, all of the same type, stored in contiguous memory locations.\n",
        "\n",
        "Linked Lists: A linear collection of elements, where each element points to the next one in the sequence.\n",
        "\n",
        "Stacks: A collection where elements are added and removed in a last-in, first-out (LIFO) order.\n",
        "\n",
        "Queues: A collection where elements are added at the back and removed from the front, following a first-in, first-out (FIFO) order.\n",
        "\n",
        "Trees: Hierarchical structures where each element (node) has a value and references to child nodes.\n",
        "\n",
        "Graphs: A set of nodes (vertices) connected by edges, used to represent relationships or networks.\n",
        "\n",
        "Hash Tables: A data structure that maps keys to values, offering efficient lookup and insertion.\n",
        "\n",
        "##Q2)Explain the difference between mutable and immutable data types with examples ?\n",
        "\n",
        "Ans: **Mutable data types** can be modified after they are created. Changes can be made to their contents without creating a new object.\n",
        "\n",
        "- **Example**:\n",
        "  - **List**: `my_list = [1, 2, 3]`; you can modify it like `my_list[0] = 10`.\n",
        "\n",
        "**Immutable data types** cannot be modified once created. Any change results in the creation of a new object.\n",
        "\n",
        "- **Example**:\n",
        "  - **Tuple**: `my_tuple = (1, 2, 3)`; you cannot change it like `my_tuple[0] = 10` (will raise an error).\n",
        "\n",
        "##Q3)What are the main differences between lists and tuples in Python?\n",
        "\n",
        "Ans: The main differences between **lists** and **tuples** in Python are:\n",
        "\n",
        "1. **Mutability**:\n",
        "   - **List**: Mutable (can be modified after creation).\n",
        "   - **Tuple**: Immutable (cannot be modified after creation).\n",
        "\n",
        "2. **Syntax**:\n",
        "   - **List**: Defined with square brackets `[]`.\n",
        "     - Example: `my_list = [1, 2, 3]`\n",
        "   - **Tuple**: Defined with parentheses `()`.\n",
        "     - Example: `my_tuple = (1, 2, 3)`\n",
        "\n",
        "3. **Performance**:\n",
        "   - **List**: Slightly slower due to its mutability.\n",
        "   - **Tuple**: Faster, as it is immutable.\n",
        "\n",
        "4. **Use cases**:\n",
        "   - **List**: Used when data might need to be changed (e.g., adding or removing items).\n",
        "   - **Tuple**: Used for fixed data that should not change (e.g., coordinates, function arguments).\n",
        "\n",
        "5. **Methods**:\n",
        "   - **List**: Has more methods (e.g., `append()`, `remove()`).\n",
        "   - **Tuple**: Has fewer methods, mainly for accessing data (e.g., `count()`, `index()`).\n",
        "\n",
        "In short, lists are mutable and more flexible, while tuples are immutable and more efficient for fixed data.\n",
        "\n",
        "##Q4) Describe how dictionaries store data ?\n",
        "\n",
        "Ans:Dictionaries in Python store data as key-value pairs. Each key is unique, and it maps to a corresponding value. Internally, dictionaries use a hash table, where the key is hashed to determine its position in memory, making lookups, insertions, and deletions efficient.\n",
        "\n",
        "### Example:\n",
        "```python\n",
        "my_dict = {'name': 'Alice', 'age': 25}\n",
        "```\n",
        "- **Key**: `'name'`, **Value**: `'Alice'`\n",
        "- **Key**: `'age'`, **Value**: `25`\n",
        "\n",
        "The key-value pair allows you to quickly retrieve, add, or modify values using the keys.\n",
        "\n",
        "##Q5) Why might you use a set instead of a list in Python ?\n",
        "\n",
        "Ans:You might use a **set** instead of a **list** in Python when:\n",
        "\n",
        "1. **Uniqueness**: Sets automatically eliminate duplicate values, while lists allow duplicates.\n",
        "   - Example: `my_set = {1, 2, 3}` ensures only unique elements.\n",
        "  \n",
        "2. **Faster Lookups**: Sets provide faster membership testing (`in`), as they are implemented using hash tables, while lists have slower linear search time.\n",
        "\n",
        "3. **Mathematical Operations**: Sets support operations like union, intersection, and difference, which are useful for set theory tasks.\n",
        "\n",
        "### Example:\n",
        "```python\n",
        "my_set = {1, 2, 3}\n",
        "# Adding duplicate to set doesn't change it\n",
        "my_set.add(2)  # my_set remains {1, 2, 3}\n",
        "```\n",
        "\n",
        "Use a set when you need uniqueness and efficient membership checks.\n",
        "\n",
        "##Q6) What is a string in Python, and how is it different from a list ?\n",
        "\n",
        "Ans: In Python, a **string** is a sequence of characters enclosed in quotes (either single or double). It is immutable, meaning its contents cannot be changed after creation.\n",
        "\n",
        "A **list**, on the other hand, is a collection of ordered items, which can be of different types (e.g., integers, strings, etc.). Lists are **mutable**, meaning you can change, add, or remove elements after the list is created.\n",
        "\n",
        "### Key Differences:\n",
        "- **Strings** are immutable; **lists** are mutable.\n",
        "- **Strings** hold characters; **lists** can hold any data type.\n",
        "- **Strings** are indexed by characters; **lists** are indexed by elements.\n",
        "\n",
        "##Q7) How do tuples ensure data integrity in Python ?\n",
        "\n",
        "Ans: Tuples ensure data integrity in Python through their **immutability**. Once a tuple is created, its contents cannot be altered—elements cannot be added, modified, or removed. This characteristic guarantees that the data within the tuple remains unchanged throughout the program, making it a reliable data structure for situations where preserving the integrity of data is important.\n",
        "\n",
        "The key features that contribute to data integrity are:\n",
        "\n",
        "1. **Immutability**: After a tuple is created, you cannot modify, append, or delete any elements. This prevents accidental or unauthorized changes to the data.\n",
        "   \n",
        "2. **Hashability**: Tuples are hashable (if they contain only immutable elements), meaning they can be used as keys in dictionaries, ensuring that the data remains stable and consistent over time.\n",
        "\n",
        "3. **Efficiency**: Since tuples are immutable, they require less memory and are generally faster for read-only access compared to lists, further enhancing reliability in data handling.\n",
        "\n",
        "These features make tuples ideal for storing constant or read-only data that should not be modified after its creation.\n",
        "\n",
        "##Q8) What is a hash table, and how does it relate to dictionaries in Python ?\n",
        "\n",
        "Ans:A **hash table** is a data structure that stores data in an array-like format, where each data element is stored in a \"bucket\" based on the result of a **hash function** applied to the key. The hash function generates a unique index (hash) for each key, which is used to quickly locate the associated value. This enables **efficient O(1)** average time complexity for lookup, insertion, and deletion operations.\n",
        "\n",
        "In Python, a **dictionary** is implemented using a hash table. The dictionary's **keys** are hashed to generate unique indices in the underlying hash table, allowing fast access to the corresponding **values**. This means that when you use a key to retrieve a value from a dictionary, the hash table's internal mechanism quickly finds the correct location, making dictionary operations (like searching, adding, or removing items) efficient.\n",
        "\n",
        "##Q9) Can lists contain different data types in Python ?\n",
        "\n",
        "Ans:Yes, in Python, **lists can contain different data types**. A list is an ordered collection that can hold items of any data type, including integers, strings, floats, other lists, and even custom objects. This flexibility allows you to store heterogeneous data within a single list.\n",
        "\n",
        "For example:\n",
        "```python\n",
        "my_list = [1, \"hello\", 3.14, [2, 3], True]\n",
        "```\n",
        "In this list, you have an integer (`1`), a string (`\"hello\"`), a float (`3.14`), a nested list (`[2, 3]`), and a boolean (`True`).\n",
        "\n",
        "##Q10) Explain why strings are immutable in Python ?\n",
        "\n",
        "Ans: Strings are **immutable** in Python for several important reasons:\n",
        "\n",
        "1. **Efficiency**: Since strings are often used frequently and can be large, making them immutable allows Python to optimize memory usage. Python can reuse the same string object in memory rather than creating new ones every time a string is modified, leading to better performance.\n",
        "\n",
        "2. **Consistency**: Immutability ensures that strings cannot be changed once they are created. This avoids unintended side effects and makes string handling more predictable and reliable, especially when strings are shared across different parts of a program.\n",
        "\n",
        "3. **Hashability**: Since strings are immutable, they can be used as **keys in dictionaries** and stored in **sets**. Immutability guarantees that the hash value of a string remains constant, which is necessary for these data structures to function correctly.\n",
        "\n",
        "4. **Security**: Immutability can also be seen as a security feature, preventing accidental or malicious modifications to strings, which could alter the behavior of a program.\n",
        "\n",
        "Because of these reasons, Python uses immutable strings to enhance performance, reliability, and safety in programs.\n",
        "\n",
        "##Q11) What advantages do dictionaries offer over lists for certain tasks ?\n",
        "\n",
        "Ans: Dictionaries offer several advantages over lists:\n",
        "\n",
        "1. **Faster Lookup**: Dictionaries allow **O(1)** average time complexity for lookups using keys, whereas lists require **O(n)** time to find an element by value.\n",
        "2. **Key-Value Pairs**: Dictionaries store data as key-value pairs, making them ideal for tasks that need unique keys associated with values.\n",
        "3. **Efficient Insertion and Deletion**: Inserting and deleting key-value pairs in dictionaries is **O(1)**, while lists may require shifting elements, making these operations **O(n)**.\n",
        "4. **Uniqueness of Keys**: Dictionaries ensure unique keys, preventing duplicates, while lists can contain repeated values.\n",
        "\n",
        "##Q12) Describe a scenario where using a tuple would be preferable over a list ?\n",
        "\n",
        "Ans: A tuple would be preferable over a list in a scenario where you need to store a **fixed, unchangeable collection** of elements. For example:\n",
        "\n",
        "- **Storing geographic coordinates**: If you have a fixed pair of coordinates, such as (latitude, longitude), using a tuple ensures that the values cannot be accidentally modified, preserving the integrity of the data.\n",
        "  \n",
        "- **Returning multiple values from a function**: When a function needs to return a fixed set of related values (like a pair of results), a tuple can be used to group them together, signaling that the values should not be changed.\n",
        "\n",
        "Since tuples are **immutable**, they offer better performance in terms of memory usage and speed, and they provide **data integrity** by preventing unintended modifications.\n",
        "\n",
        "##Q13) How do sets handle duplicate values in Python ?\n",
        "\n",
        "Ans: In Python, **sets automatically handle duplicate values** by only allowing **unique elements**. When you try to add a duplicate value to a set, it is simply ignored. This ensures that each element in the set appears only once, maintaining its uniqueness.\n",
        "\n",
        "For example:\n",
        "```python\n",
        "my_set = {1, 2, 3}\n",
        "my_set.add(2)  # Duplicate, will be ignored\n",
        "my_set.add(4)  # New element, will be added\n",
        "print(my_set)  # Output: {1, 2, 3, 4}\n",
        "```\n",
        "\n",
        "In this example, adding the value `2` again does not change the set because sets do not allow duplicates.\n",
        "\n",
        "##Q14) How does the “in” keyword work differently for lists and dictionaries ?\n",
        "\n",
        "Ans: The **\"in\"** keyword works differently for **lists** and **dictionaries**:\n",
        "\n",
        "- **In a list**, it checks if a **value** exists in the list.\n",
        "- **In a dictionary**, it checks if a **key** exists in the dictionary.\n",
        "\n",
        "For example:\n",
        "- `2 in [1, 2, 3]` checks if `2` is in the list.\n",
        "- `'a' in {'a': 1, 'b': 2}` checks if `'a'` is a key in the dictionary.\n",
        "\n",
        "##Q15) Can you modify the elements of a tuple? Explain why or why not ?\n",
        "\n",
        "Ans: No, you **cannot modify** the elements of a tuple in Python because tuples are **immutable**. This means that once a tuple is created, its elements cannot be changed, added, or removed.\n",
        "\n",
        "### Reason:\n",
        "- **Immutability** is a fundamental property of tuples in Python. The elements of a tuple are fixed at creation time, ensuring data integrity. This characteristic prevents accidental modifications to the data, making tuples useful for representing constant or unchangeable data (like coordinates, fixed configurations, etc.).\n",
        "\n",
        "For example:\n",
        "```python\n",
        "my_tuple = (1, 2, 3)\n",
        "my_tuple[0] = 4  # This will raise a TypeError\n",
        "```\n",
        "\n",
        "Attempting to modify an element of a tuple will result in a `TypeError`, as the tuple's immutability ensures that its contents cannot be altered.\n",
        "\n",
        "##Q16) What is a nested dictionary, and give an example of its use case ?\n",
        "\n",
        "Ans: A **nested dictionary** is a dictionary where the values are other dictionaries, allowing for a multi-level data structure.\n",
        "\n",
        "### Example use case:\n",
        "A nested dictionary can be used to store **student records**, where each student has multiple attributes like name, age, and grades.\n",
        "\n",
        "```python\n",
        "students = {\n",
        "    \"Alice\": {\"age\": 20, \"grades\": [90, 85, 88]},\n",
        "    \"Bob\": {\"age\": 22, \"grades\": [80, 78, 84]}\n",
        "}\n",
        "```\n",
        "\n",
        "### Accessing data:\n",
        "```python\n",
        "print(students[\"Alice\"][\"grades\"])  # Output: [90, 85, 88]\n",
        "```\n",
        "\n",
        "##Q17) Describe the time complexity of accessing elements in a dictionary ?\n",
        "\n",
        "Ans: The time complexity of accessing elements in a **dictionary** in Python is **O(1)** on average, meaning it takes constant time to retrieve a value associated with a key.\n",
        "\n",
        "### Explanation:\n",
        "- Dictionaries in Python are implemented using **hash tables**. When you access an element using a key, the dictionary uses a hash function to compute the index of the key in the underlying array.\n",
        "- This allows for fast lookups because the key is mapped directly to its value, without needing to iterate through other elements.\n",
        "\n",
        "However, in the worst case (such as in situations with hash collisions), the time complexity can degrade to **O(n)**, where `n` is the number of elements in the dictionary. But this is rare in practice due to Python's efficient handling of hash collisions.\n",
        "\n",
        "So, the **average time complexity** for accessing an element in a dictionary is **O(1)**.\n",
        "\n",
        "##Q18) In what situations are lists preferred over dictionaries ?\n",
        "\n",
        "Ans: Lists are preferred over dictionaries in the following situations:\n",
        "\n",
        "1. **When you need an ordered collection**: Lists maintain the order of elements, which is useful when the sequence or position of the items matters (e.g., processing tasks in a specific order).\n",
        "\n",
        "2. **When you need to store multiple elements without key-value pairing**: Lists are ideal for storing multiple items of any type when there is no need to associate each item with a unique key. For example, a list of numbers or names.\n",
        "\n",
        "3. **When you need to allow duplicates**: Unlike dictionaries, which only store unique keys, lists can contain duplicate elements. This makes lists suitable for situations where you need to store repeated values.\n",
        "\n",
        "4. **When you need to iterate through elements by index**: Lists allow you to easily access and modify elements by index, which is helpful in scenarios where you need to perform operations on specific positions in the sequence.\n",
        "\n",
        "In summary, lists are best for ordered collections, handling duplicates, and when indexing or maintaining the sequence of elements is important.\n",
        "\n",
        "##Q19) Why are dictionaries considered unordered, and how does that affect data retrieval ?\n",
        "\n",
        "Ans: Dictionaries in Python were traditionally considered **unordered** because, in versions prior to Python 3.7, the order of the key-value pairs was not guaranteed. However, starting from Python 3.7, dictionaries **preserve the insertion order** of elements.\n",
        "\n",
        "Despite this, dictionaries are still generally treated as **unordered** from a conceptual perspective because:\n",
        "\n",
        "1. **Internal Implementation**: Dictionaries are implemented using **hash tables**, which organize data based on hash values of the keys, not their insertion order. The focus is on efficient lookups, insertions, and deletions, not on the order of elements.\n",
        "\n",
        "2. **Data Retrieval**: In an unordered structure like a dictionary, you cannot access elements by position or assume any specific order when iterating through them. Retrieval is based on the **key** and occurs in constant time (O(1)) on average, not based on the order of insertion.\n",
        "\n",
        "### Effect on Data Retrieval:\n",
        "- **Efficient Lookups**: While dictionaries do not guarantee order, data retrieval is still **very efficient**, with average O(1) time complexity for accessing values by their key.\n",
        "- **No Index-Based Access**: Since the order is not guaranteed (except in Python 3.7+), you cannot rely on iterating through keys in the same order they were added unless using Python 3.7+.\n",
        "\n",
        "##Q20) Explain the difference between a list and a dictionary in terms of data retrieval.\n",
        "\n",
        "Ans: The difference between a **list** and a **dictionary** in terms of data retrieval is primarily based on how elements are accessed and the underlying data structure.\n",
        "\n",
        "### List:\n",
        "- **Data Retrieval**: In a list, elements are accessed by their **index** (position in the list). To retrieve an element, you use the index number, like `my_list[2]` to get the element at the 3rd position.\n",
        "- **Time Complexity**: The time complexity of retrieving an element by index is **O(1)**, but finding an element by value (if you don't know its index) requires **O(n)** time because you may have to search through the entire list.\n",
        "\n",
        "### Dictionary:\n",
        "- **Data Retrieval**: In a dictionary, elements are accessed by their **key**. You use the key to retrieve the corresponding value, like `my_dict['key']` to get the associated value.\n",
        "- **Time Complexity**: The time complexity of retrieving a value by key is **O(1)** on average due to the underlying **hash table** implementation, which allows for fast lookups. The retrieval is direct based on the hash of the key.\n",
        "\n",
        "### Key Differences:\n",
        "- **Access by Index vs. Key**: Lists use indices for access (position-based), while dictionaries use keys (label-based).\n",
        "- **Efficiency**: Lists are more efficient for accessing elements by index, while dictionaries are more efficient for lookups by key, especially for large datasets.\n",
        "\n",
        "## Practical Answers\n",
        "\n",
        "\n",
        "##Q1) Write a code to create a string with your name and print it ?\n",
        "\n",
        "Ans: Here's a simple Python code to create a string with your name and print it:\n",
        "\n",
        "\n",
        "\n",
        "\n",
        "\n",
        "\n",
        "\n",
        "\n",
        "\n",
        "\n",
        "\n",
        "\n"
      ],
      "metadata": {
        "id": "zbI3wCrpBHnm"
      }
    },
    {
      "cell_type": "code",
      "source": [
        "# Creating a string with your name\n",
        "name = \"soni\"\n",
        "\n",
        "# Printing the string\n",
        "print(name)\n"
      ],
      "metadata": {
        "colab": {
          "base_uri": "https://localhost:8080/"
        },
        "id": "fNMBJ6Bwahpf",
        "outputId": "80a5b26f-6250-4335-a040-8f7df7e7db23"
      },
      "execution_count": 1,
      "outputs": [
        {
          "output_type": "stream",
          "name": "stdout",
          "text": [
            "soni\n"
          ]
        }
      ]
    },
    {
      "cell_type": "markdown",
      "source": [
        "##Q2) Write a code to find the length of the string \"Hello World\"\n",
        "\n",
        "Ans: Here's a Python code to find the length of the string \"Hello World\":\n",
        "\n",
        "\n"
      ],
      "metadata": {
        "id": "FB-ClW1aapck"
      }
    },
    {
      "cell_type": "code",
      "source": [
        "# Creating the string\n",
        "text = \"Hello World\"\n",
        "\n",
        "# Finding the length of the string\n",
        "length = len(text)\n",
        "\n",
        "# Printing the length\n",
        "print(length)\n"
      ],
      "metadata": {
        "colab": {
          "base_uri": "https://localhost:8080/"
        },
        "id": "qk1Cr7a4bCI0",
        "outputId": "64a65782-917c-4a14-90bc-279ba6c8cc18"
      },
      "execution_count": 2,
      "outputs": [
        {
          "output_type": "stream",
          "name": "stdout",
          "text": [
            "11\n"
          ]
        }
      ]
    },
    {
      "cell_type": "markdown",
      "source": [
        "##Q3) Write a code to slice the first 3 characters from the string \"Python Programming\" ?\n",
        "\n",
        "Ans:  Here's a Python code to slice the first 3 characters from the string \"Python Programming\":"
      ],
      "metadata": {
        "id": "SCn9PBWBbWLd"
      }
    },
    {
      "cell_type": "code",
      "source": [
        "# Creating the string\n",
        "text = \"Python Programming\"\n",
        "\n",
        "# Slicing the first 3 characters\n",
        "sliced_text = text[:3]\n",
        "\n",
        "# Printing the sliced text\n",
        "print(sliced_text)\n"
      ],
      "metadata": {
        "id": "uiCpsVYgclw1"
      },
      "execution_count": null,
      "outputs": []
    },
    {
      "cell_type": "markdown",
      "source": [
        "##Q4) Write a code to convert the string \"hello\" to uppercase ?\n",
        "\n",
        "Ans: Here's a Python code to convert the string \"hello\" to uppercase:\n",
        "\n"
      ],
      "metadata": {
        "id": "1isYDTL9cnGe"
      }
    },
    {
      "cell_type": "code",
      "source": [
        "# Creating the string\n",
        "text = \"hello\"\n",
        "\n",
        "# Converting the string to uppercase\n",
        "uppercase_text = text.upper()\n",
        "\n",
        "# Printing the uppercase string\n",
        "print(uppercase_text)\n"
      ],
      "metadata": {
        "colab": {
          "base_uri": "https://localhost:8080/"
        },
        "id": "9yEwwB-hdAd5",
        "outputId": "d1d8b8bf-e96d-4601-bd75-8366230cafc8"
      },
      "execution_count": 4,
      "outputs": [
        {
          "output_type": "stream",
          "name": "stdout",
          "text": [
            "HELLO\n"
          ]
        }
      ]
    },
    {
      "cell_type": "markdown",
      "source": [
        "##Q5) Write a code to replace the word \"apple\" with \"orange\" in the string \"I like apple\" ?\n",
        "\n",
        "Ans: Here's a Python code to replace the word \"apple\" with \"orange\" in the string \"I like apple\":\n",
        "\n"
      ],
      "metadata": {
        "id": "1zi3-qctdMOH"
      }
    },
    {
      "cell_type": "code",
      "source": [
        "# Creating the string\n",
        "text = \"I like apple\"\n",
        "\n",
        "# Replacing \"apple\" with \"orange\"\n",
        "replaced_text = text.replace(\"apple\", \"orange\")\n",
        "\n",
        "# Printing the modified string\n",
        "print(replaced_text)\n"
      ],
      "metadata": {
        "colab": {
          "base_uri": "https://localhost:8080/"
        },
        "id": "cWRAnfmoeIhX",
        "outputId": "e815a8f3-ec4c-4da9-a97f-3767fb00651e"
      },
      "execution_count": 5,
      "outputs": [
        {
          "output_type": "stream",
          "name": "stdout",
          "text": [
            "I like orange\n"
          ]
        }
      ]
    },
    {
      "cell_type": "markdown",
      "source": [
        "##Q6) Write a code to create a list with numbers 1 to 5 and print it ?\n",
        "\n",
        "Ans: Here's a Python code to create a list with numbers from 1 to 5 and print it:\n",
        "\n"
      ],
      "metadata": {
        "id": "dydLLeeleOcv"
      }
    },
    {
      "cell_type": "code",
      "source": [
        "# Creating the list\n",
        "numbers = [1, 2, 3, 4, 5]\n",
        "\n",
        "# Printing the list\n",
        "print(numbers)\n"
      ],
      "metadata": {
        "colab": {
          "base_uri": "https://localhost:8080/"
        },
        "id": "thzzGJagegtP",
        "outputId": "42e79c75-0796-4030-e3b7-e66e039fa26c"
      },
      "execution_count": 6,
      "outputs": [
        {
          "output_type": "stream",
          "name": "stdout",
          "text": [
            "[1, 2, 3, 4, 5]\n"
          ]
        }
      ]
    },
    {
      "cell_type": "markdown",
      "source": [
        "##Q7) Write a code to append the number 10 to the list [1, 2, 3, 4] ?\n",
        "\n",
        "Ans: Here's a Python code to append the number 10 to the list [1, 2, 3, 4]:\n"
      ],
      "metadata": {
        "id": "9zRpbCNaek04"
      }
    },
    {
      "cell_type": "code",
      "source": [
        "# Creating the list\n",
        "numbers = [1, 2, 3, 4]\n",
        "\n",
        "# Appending 10 to the list\n",
        "numbers.append(10)\n",
        "\n",
        "# Printing the updated list\n",
        "print(numbers)\n"
      ],
      "metadata": {
        "colab": {
          "base_uri": "https://localhost:8080/"
        },
        "id": "voe5FTSxe1qb",
        "outputId": "30718370-74ae-4439-d724-e6b7c8166136"
      },
      "execution_count": 7,
      "outputs": [
        {
          "output_type": "stream",
          "name": "stdout",
          "text": [
            "[1, 2, 3, 4, 10]\n"
          ]
        }
      ]
    },
    {
      "cell_type": "markdown",
      "source": [
        "##Q8) Write a code to remove the number 3 from the list [1, 2, 3, 4, 5] ?\n",
        "\n",
        "Ans: Here's a Python code to remove the number 3 from the list [1, 2, 3, 4, 5]:\n",
        "\n",
        "\n"
      ],
      "metadata": {
        "id": "z1ZroULOe4dI"
      }
    },
    {
      "cell_type": "code",
      "source": [
        "# Creating the list\n",
        "numbers = [1, 2, 3, 4, 5]\n",
        "\n",
        "# Removing the number 3 from the list\n",
        "numbers.remove(3)\n",
        "\n",
        "# Printing the updated list\n",
        "print(numbers)\n"
      ],
      "metadata": {
        "colab": {
          "base_uri": "https://localhost:8080/"
        },
        "id": "_3DrpSWcfNAN",
        "outputId": "c63c68d4-47d7-4ea7-cb4e-79da6e2bd110"
      },
      "execution_count": 8,
      "outputs": [
        {
          "output_type": "stream",
          "name": "stdout",
          "text": [
            "[1, 2, 4, 5]\n"
          ]
        }
      ]
    },
    {
      "cell_type": "markdown",
      "source": [
        "##Q9) Write a code to access the second element in the list ['a', 'b', 'c', 'd'] ?\n",
        "\n",
        "Ans: Here's a Python code to access the second element in the list ['a', 'b', 'c', 'd']:\n",
        "\n",
        "\n"
      ],
      "metadata": {
        "id": "8iV6Q1IUfVCr"
      }
    },
    {
      "cell_type": "code",
      "source": [
        "# Creating the list\n",
        "letters = ['a', 'b', 'c', 'd']\n",
        "\n",
        "# Accessing the second element (index 1)\n",
        "second_element = letters[1]\n",
        "\n",
        "# Printing the second element\n",
        "print(second_element)\n"
      ],
      "metadata": {
        "colab": {
          "base_uri": "https://localhost:8080/"
        },
        "id": "B_8PKqv1fuTi",
        "outputId": "e661b9f8-2260-4335-9223-4a38619bc8b7"
      },
      "execution_count": 9,
      "outputs": [
        {
          "output_type": "stream",
          "name": "stdout",
          "text": [
            "b\n"
          ]
        }
      ]
    },
    {
      "cell_type": "markdown",
      "source": [
        "##Q10) Write a code to reverse the list [10, 20, 30, 40, 50].\n",
        "\n",
        "Ans:Here's a Python code to reverse the list [10, 20, 30, 40, 50]:\n",
        "\n"
      ],
      "metadata": {
        "id": "gYMy7SAxf1OJ"
      }
    },
    {
      "cell_type": "code",
      "source": [
        "# Creating the list\n",
        "numbers = [10, 20, 30, 40, 50]\n",
        "\n",
        "# Reversing the list\n",
        "reversed_numbers = numbers[::-1]\n",
        "\n",
        "# Printing the reversed list\n",
        "print(reversed_numbers)\n"
      ],
      "metadata": {
        "colab": {
          "base_uri": "https://localhost:8080/"
        },
        "id": "fV92A1wKgBKN",
        "outputId": "eea83804-5e08-4060-ee03-7d332e54b8f2"
      },
      "execution_count": 10,
      "outputs": [
        {
          "output_type": "stream",
          "name": "stdout",
          "text": [
            "[50, 40, 30, 20, 10]\n"
          ]
        }
      ]
    },
    {
      "cell_type": "markdown",
      "source": [
        "##Q11) Write a code to create a tuple with the elements 10, 20, 30 and print it.\n",
        "\n",
        "Ans:Here's a Python code to create a tuple with the elements 10, 20, and 30, and print it:\n",
        "\n"
      ],
      "metadata": {
        "id": "Hhue5Cb8gEHm"
      }
    },
    {
      "cell_type": "code",
      "source": [
        "# Creating the tuple\n",
        "my_tuple = (10, 20, 30)\n",
        "\n",
        "# Printing the tuple\n",
        "print(my_tuple)\n"
      ],
      "metadata": {
        "colab": {
          "base_uri": "https://localhost:8080/"
        },
        "id": "zTfP23M2gVh_",
        "outputId": "adf786bb-e3b5-42e9-97ce-a6bb7e90fb7d"
      },
      "execution_count": 11,
      "outputs": [
        {
          "output_type": "stream",
          "name": "stdout",
          "text": [
            "(10, 20, 30)\n"
          ]
        }
      ]
    },
    {
      "cell_type": "markdown",
      "source": [
        "##Q12) Write a code to access the first element of the tuple ('apple', 'banana', 'cherry').\n",
        "\n",
        "Ans: Here's a Python code to access the first element of the tuple ('apple', 'banana', 'cherry'):\n",
        "\n"
      ],
      "metadata": {
        "id": "PFGgLMqsgZJO"
      }
    },
    {
      "cell_type": "code",
      "source": [
        "# Creating the tuple\n",
        "my_tuple = ('apple', 'banana', 'cherry')\n",
        "\n",
        "# Accessing the first element (index 0)\n",
        "first_element = my_tuple[0]\n",
        "\n",
        "# Printing the first element\n",
        "print(first_element)\n"
      ],
      "metadata": {
        "colab": {
          "base_uri": "https://localhost:8080/"
        },
        "id": "coyGzCDWgsZd",
        "outputId": "6bcded4d-61f3-479a-9b88-bb3a674e0c36"
      },
      "execution_count": 12,
      "outputs": [
        {
          "output_type": "stream",
          "name": "stdout",
          "text": [
            "apple\n"
          ]
        }
      ]
    },
    {
      "cell_type": "markdown",
      "source": [
        "##Q13) Write a code to count how many times the number 2 appears in the tuple (1, 2, 3, 2, 4, 2).\n",
        "\n",
        "Ans: Here's a Python code to count how many times the number 2 appears in the tuple (1, 2, 3, 2, 4, 2):\n",
        "\n"
      ],
      "metadata": {
        "id": "BHFV7NscgxTB"
      }
    },
    {
      "cell_type": "code",
      "source": [
        "# Creating the tuple\n",
        "my_tuple = (1, 2, 3, 2, 4, 2)\n",
        "\n",
        "# Counting how many times the number 2 appears\n",
        "count_of_2 = my_tuple.count(2)\n",
        "\n",
        "# Printing the count\n",
        "print(count_of_2)\n"
      ],
      "metadata": {
        "colab": {
          "base_uri": "https://localhost:8080/"
        },
        "id": "QtHpToO-hArl",
        "outputId": "ca2309a1-020b-4167-de3d-1b307745fb18"
      },
      "execution_count": 13,
      "outputs": [
        {
          "output_type": "stream",
          "name": "stdout",
          "text": [
            "3\n"
          ]
        }
      ]
    },
    {
      "cell_type": "markdown",
      "source": [
        "##Q14) Write a code to find the index of the element \"cat\" in the tuple ('dog', 'cat', 'rabbit').\n",
        "\n",
        "Ans: Here's a Python code to find the index of the element \"cat\" in the tuple ('dog', 'cat', 'rabbit'):\n",
        "\n"
      ],
      "metadata": {
        "id": "rq-o4uWwhE0g"
      }
    },
    {
      "cell_type": "code",
      "source": [
        "# Creating the tuple\n",
        "my_tuple = ('dog', 'cat', 'rabbit')\n",
        "\n",
        "# Finding the index of the element \"cat\"\n",
        "index_of_cat = my_tuple.index('cat')\n",
        "\n",
        "# Printing the index\n",
        "print(index_of_cat)\n"
      ],
      "metadata": {
        "colab": {
          "base_uri": "https://localhost:8080/"
        },
        "id": "ZmQkBcSzhiX9",
        "outputId": "e4a691aa-5234-479a-e297-4e71b470faf2"
      },
      "execution_count": 14,
      "outputs": [
        {
          "output_type": "stream",
          "name": "stdout",
          "text": [
            "1\n"
          ]
        }
      ]
    },
    {
      "cell_type": "markdown",
      "source": [
        "##Q15) Write a code to check if the element \"banana\" is in the tuple ('apple', 'orange', 'banana').\n",
        "\n",
        "Ans: Here's a Python code to check if the element \"banana\" is in the tuple ('apple', 'orange', 'banana'):\n"
      ],
      "metadata": {
        "id": "PA_AJC2EhkaW"
      }
    },
    {
      "cell_type": "code",
      "source": [
        "# Creating the tuple\n",
        "my_tuple = ('apple', 'orange', 'banana')\n",
        "\n",
        "# Checking if \"banana\" is in the tuple\n",
        "is_banana_in_tuple = 'banana' in my_tuple\n",
        "\n",
        "# Printing the result\n",
        "print(is_banana_in_tuple)\n"
      ],
      "metadata": {
        "colab": {
          "base_uri": "https://localhost:8080/"
        },
        "id": "s_Iucl_lh0Q9",
        "outputId": "8e01daeb-50d5-4b36-d4c7-7d15ad502eb4"
      },
      "execution_count": 15,
      "outputs": [
        {
          "output_type": "stream",
          "name": "stdout",
          "text": [
            "True\n"
          ]
        }
      ]
    },
    {
      "cell_type": "markdown",
      "source": [
        "##Q16) Write a code to create a set with the elements 1, 2, 3, 4, 5 and print it.\n",
        "\n",
        "Ans: Here's a Python code to create a set with the elements 1, 2, 3, 4, 5 and print it:\n",
        "\n"
      ],
      "metadata": {
        "id": "10pqnx45h7x9"
      }
    },
    {
      "cell_type": "code",
      "source": [
        "# Creating the set\n",
        "my_set = {1, 2, 3, 4, 5}\n",
        "\n",
        "# Printing the set\n",
        "print(my_set)\n"
      ],
      "metadata": {
        "colab": {
          "base_uri": "https://localhost:8080/"
        },
        "id": "4YVJBHhKiJM1",
        "outputId": "7f739a59-0ff0-4c61-c1a2-65fc76ad7e9f"
      },
      "execution_count": 16,
      "outputs": [
        {
          "output_type": "stream",
          "name": "stdout",
          "text": [
            "{1, 2, 3, 4, 5}\n"
          ]
        }
      ]
    },
    {
      "cell_type": "markdown",
      "source": [
        "##Q17) Write a code to add the element 6 to the set {1, 2, 3, 4}.\n",
        "\n",
        "Ans: Here's a Python code to add the element 6 to the set {1, 2, 3, 4}:\n"
      ],
      "metadata": {
        "id": "p4gPHZSOiMeH"
      }
    },
    {
      "cell_type": "code",
      "source": [
        "# Creating the set\n",
        "my_set = {1, 2, 3, 4}\n",
        "\n",
        "# Adding the element 6 to the set\n",
        "my_set.add(6)\n",
        "\n",
        "# Printing the updated set\n",
        "print(my_set)\n"
      ],
      "metadata": {
        "colab": {
          "base_uri": "https://localhost:8080/"
        },
        "id": "yfq7GUPXibwo",
        "outputId": "44f1b55d-5771-4351-d3b0-b7a1b15aa7d0"
      },
      "execution_count": 17,
      "outputs": [
        {
          "output_type": "stream",
          "name": "stdout",
          "text": [
            "{1, 2, 3, 4, 6}\n"
          ]
        }
      ]
    },
    {
      "cell_type": "markdown",
      "source": [
        "##Q18) Write a code to create a tuple with the elements 10, 20, 30 and print it.\n",
        "\n",
        "Ans: Here's a Python code to create a tuple with the elements 10, 20, and 30, and print it:\n",
        "\n"
      ],
      "metadata": {
        "id": "PxR-Ua59ifea"
      }
    },
    {
      "cell_type": "code",
      "source": [
        "# Creating the tuple\n",
        "my_tuple = (10, 20, 30)\n",
        "\n",
        "# Printing the tuple\n",
        "print(my_tuple)\n"
      ],
      "metadata": {
        "colab": {
          "base_uri": "https://localhost:8080/"
        },
        "id": "l3zkkupyiu03",
        "outputId": "4eabeb8a-790c-4de1-ce93-295e6ee2a74a"
      },
      "execution_count": 18,
      "outputs": [
        {
          "output_type": "stream",
          "name": "stdout",
          "text": [
            "(10, 20, 30)\n"
          ]
        }
      ]
    },
    {
      "cell_type": "markdown",
      "source": [
        "##Q19) Write a code to access the first element of the tuple ('apple', 'banana', 'cherry').\n",
        "\n",
        "Ans: Here's a Python code to access the first element of the tuple ('apple', 'banana', 'cherry'):\n"
      ],
      "metadata": {
        "id": "1BaYDR3aiwdY"
      }
    },
    {
      "cell_type": "code",
      "source": [
        "# Creating the tuple\n",
        "my_tuple = ('apple', 'banana', 'cherry')\n",
        "\n",
        "# Accessing the first element (index 0)\n",
        "first_element = my_tuple[0]\n",
        "\n",
        "# Printing the first element\n",
        "print(first_element)\n"
      ],
      "metadata": {
        "colab": {
          "base_uri": "https://localhost:8080/"
        },
        "id": "HsqE6anpjB2N",
        "outputId": "e8eae2d0-0832-4384-8d22-06f0fdddb3ee"
      },
      "execution_count": 19,
      "outputs": [
        {
          "output_type": "stream",
          "name": "stdout",
          "text": [
            "apple\n"
          ]
        }
      ]
    },
    {
      "cell_type": "markdown",
      "source": [
        "##Q20) Write a code to count how many times the number 2 appears in the tuple (1, 2, 3, 2, 4, 2).\n",
        "\n",
        "Ans: Here's a Python code to count how many times the number 2 appears in the tuple (1, 2, 3, 2, 4, 2):\n",
        "\n"
      ],
      "metadata": {
        "id": "ljyVjm3rjJte"
      }
    },
    {
      "cell_type": "code",
      "source": [
        "# Creating the tuple\n",
        "my_tuple = (1, 2, 3, 2, 4, 2)\n",
        "\n",
        "# Counting how many times the number 2 appears\n",
        "count_of_2 = my_tuple.count(2)\n",
        "\n",
        "# Printing the count\n",
        "print(count_of_2)\n"
      ],
      "metadata": {
        "colab": {
          "base_uri": "https://localhost:8080/"
        },
        "id": "7VtWoTkbjZWs",
        "outputId": "60a13733-95b0-4b73-8998-02f43451888d"
      },
      "execution_count": 20,
      "outputs": [
        {
          "output_type": "stream",
          "name": "stdout",
          "text": [
            "3\n"
          ]
        }
      ]
    },
    {
      "cell_type": "markdown",
      "source": [
        "##Q21) Write a code to find the index of the element \"cat\" in the tuple ('dog', 'cat', 'rabbit').\n",
        "\n",
        "Ans: Here's a Python code to find the index of the element \"cat\" in the tuple ('dog', 'cat', 'rabbit'):\n",
        "\n"
      ],
      "metadata": {
        "id": "_0JC0ny-jc11"
      }
    },
    {
      "cell_type": "code",
      "source": [
        "# Creating the tuple\n",
        "my_tuple = ('dog', 'cat', 'rabbit')\n",
        "\n",
        "# Finding the index of the element \"cat\"\n",
        "index_of_cat = my_tuple.index('cat')\n",
        "\n",
        "# Printing the index\n",
        "print(index_of_cat)\n"
      ],
      "metadata": {
        "colab": {
          "base_uri": "https://localhost:8080/"
        },
        "id": "Hvjx1IKKjsXB",
        "outputId": "c1a00554-f1ca-47c0-afbf-40ca4ce1c82d"
      },
      "execution_count": 21,
      "outputs": [
        {
          "output_type": "stream",
          "name": "stdout",
          "text": [
            "1\n"
          ]
        }
      ]
    },
    {
      "cell_type": "markdown",
      "source": [
        "##Q22) Write a code to check if the element \"banana\" is in the tuple ('apple', 'orange', 'banana').\n",
        "\n",
        "Ans: Here's a Python code to check if the element \"banana\" is in the tuple ('apple', 'orange', 'banana'):"
      ],
      "metadata": {
        "id": "810F0XGnjxKU"
      }
    },
    {
      "cell_type": "code",
      "source": [
        "# Creating the tuple\n",
        "my_tuple = ('apple', 'orange', 'banana')\n",
        "\n",
        "# Checking if \"banana\" is in the tuple\n",
        "is_banana_in_tuple = 'banana' in my_tuple\n",
        "\n",
        "# Printing the result\n",
        "print(is_banana_in_tuple)\n"
      ],
      "metadata": {
        "colab": {
          "base_uri": "https://localhost:8080/"
        },
        "id": "O4ne0uzNkDZd",
        "outputId": "e97e0693-cb63-4d1f-b2cb-c69c69b33573"
      },
      "execution_count": 22,
      "outputs": [
        {
          "output_type": "stream",
          "name": "stdout",
          "text": [
            "True\n"
          ]
        }
      ]
    },
    {
      "cell_type": "markdown",
      "source": [
        "##Q23) Write a code to create a set with the elements 1, 2, 3, 4, 5 and print it.\n",
        "\n",
        "Ans: Here's a Python code to create a set with the elements 1, 2, 3, 4, and 5, and print it:\n"
      ],
      "metadata": {
        "id": "VuellIqxkHak"
      }
    },
    {
      "cell_type": "code",
      "source": [
        "# Creating the set\n",
        "my_set = {1, 2, 3, 4, 5}\n",
        "\n",
        "# Printing the set\n",
        "print(my_set)\n"
      ],
      "metadata": {
        "colab": {
          "base_uri": "https://localhost:8080/"
        },
        "id": "VxCGd4EHka9o",
        "outputId": "0da56f12-4eae-46b5-fd43-c59cb9b59211"
      },
      "execution_count": 23,
      "outputs": [
        {
          "output_type": "stream",
          "name": "stdout",
          "text": [
            "{1, 2, 3, 4, 5}\n"
          ]
        }
      ]
    },
    {
      "cell_type": "markdown",
      "source": [
        "##Q24) Write a code to add the element 6 to the set {1, 2, 3, 4}.\n",
        "\n",
        "Ans:Here's a Python code to add the element 6 to the set {1, 2, 3, 4}:\n",
        "\n"
      ],
      "metadata": {
        "id": "1JLl0xhJkgPO"
      }
    },
    {
      "cell_type": "code",
      "source": [
        "# Creating the set\n",
        "my_set = {1, 2, 3, 4}\n",
        "\n",
        "# Adding the element 6 to the set\n",
        "my_set.add(6)\n",
        "\n",
        "# Printing the updated set\n",
        "print(my_set)\n"
      ],
      "metadata": {
        "colab": {
          "base_uri": "https://localhost:8080/"
        },
        "id": "0WG241ohkteT",
        "outputId": "124b0ad4-36c1-40d6-ea3c-6f328a8d5daf"
      },
      "execution_count": 24,
      "outputs": [
        {
          "output_type": "stream",
          "name": "stdout",
          "text": [
            "{1, 2, 3, 4, 6}\n"
          ]
        }
      ]
    }
  ]
}