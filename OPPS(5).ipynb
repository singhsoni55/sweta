{
  "nbformat": 4,
  "nbformat_minor": 0,
  "metadata": {
    "colab": {
      "provenance": [],
      "authorship_tag": "ABX9TyMd3zn6ddGjNPpnxm+OplX5",
      "include_colab_link": true
    },
    "kernelspec": {
      "name": "python3",
      "display_name": "Python 3"
    },
    "language_info": {
      "name": "python"
    }
  },
  "cells": [
    {
      "cell_type": "markdown",
      "metadata": {
        "id": "view-in-github",
        "colab_type": "text"
      },
      "source": [
        "<a href=\"https://colab.research.google.com/github/singhsoni55/sweta/blob/main/OPPS(5).ipynb\" target=\"_parent\"><img src=\"https://colab.research.google.com/assets/colab-badge.svg\" alt=\"Open In Colab\"/></a>"
      ]
    },
    {
      "cell_type": "code",
      "execution_count": null,
      "metadata": {
        "id": "unARBTcbxE07"
      },
      "outputs": [],
      "source": []
    },
    {
      "cell_type": "markdown",
      "source": [
        "##1. What are the five key concepts of Object-Oriented Programming (OOP)?\n",
        "\n",
        "Ans: The five key concepts of Object-Oriented Programming (OOP) are:\n",
        "\n",
        "1) Encapsulation: Bundling data and methods that operate on the data within a single unit (class), restricting direct access to some of the object's components.\n",
        "\n",
        "2) Abstraction: Hiding the complex implementation details and exposing only the necessary features of an object to the user.\n",
        "\n",
        "3) Inheritance: Allowing a class to inherit properties and behaviors (methods) from another class, promoting code reuse.\n",
        "\n",
        "4) Polymorphism: Enabling different objects to respond to the same method call in a way that is specific to their types.\n",
        "\n",
        "5) Composition: Building complex objects by combining simpler objects, allowing for greater flexibility and modularity.\n",
        "\n",
        "##2. Write a Python class for a `Car` with attributes for `make`, `model`, and `year`. Include a method to display\n",
        "the car's information.\n",
        "\n",
        "Ans: Here’s a Python class for a Car with attributes for make, model, and year, and a method to display the car’s information:\n",
        "\n",
        "python\n",
        "Copy code\n"
      ],
      "metadata": {
        "id": "niAPwJolxHpI"
      }
    },
    {
      "cell_type": "code",
      "source": [
        "class Car:\n",
        "    def __init__(self, make, model, year):\n",
        "        self.make = make\n",
        "        self.model = model\n",
        "        self.year = year\n",
        "\n",
        "    def display_info(self):\n",
        "        print(f\"Car Information: {self.year} {self.make} {self.model}\")\n",
        "\n",
        "# Example usage:\n",
        "car1 = Car(\"Toyota\", \"Corolla\", 2020)\n",
        "car1.display_info()\n"
      ],
      "metadata": {
        "colab": {
          "base_uri": "https://localhost:8080/"
        },
        "id": "RaL4BHb7yuzr",
        "outputId": "5217ee0d-ca5a-449c-a174-742640648155"
      },
      "execution_count": null,
      "outputs": [
        {
          "output_type": "stream",
          "name": "stdout",
          "text": [
            "Car Information: 2020 Toyota Corolla\n"
          ]
        }
      ]
    },
    {
      "cell_type": "markdown",
      "source": [
        "## 3. Explain the difference between instance methods and class methods. Provide an example of each.\n",
        "\n",
        "Ans: Instance Methods:\n",
        "\n",
        "Operate on an instance of the class.\n",
        "\n",
        "The first parameter is self, which refers to the instance.\n",
        "\n",
        "Can access and modify instance attributes.\n",
        "\n",
        "\n",
        "Class Methods:\n",
        "\n",
        "Operate on the class itself, not on an instance.\n",
        "\n",
        "The first parameter is cls, which refers to the class.\n",
        "\n",
        "Can access and modify class attributes.\n",
        "\n",
        "Example:\n",
        "Instance Method:"
      ],
      "metadata": {
        "id": "l8RdErSJ0TgH"
      }
    },
    {
      "cell_type": "code",
      "source": [
        "class Car:\n",
        "    def __init__(self, make, model):\n",
        "        self.make = make\n",
        "        self.model = model\n",
        "\n",
        "    def display_info(self):  # Instance method\n",
        "        print(f\"{self.make} {self.model}\")\n",
        "\n",
        "car = Car(\"Toyota\", \"Corolla\")\n",
        "car.display_info()  # Called on an instance\n"
      ],
      "metadata": {
        "colab": {
          "base_uri": "https://localhost:8080/"
        },
        "id": "_4SicH5k1jZR",
        "outputId": "9c9bc5ec-7c8a-416a-cf75-e5b45dd546a3"
      },
      "execution_count": null,
      "outputs": [
        {
          "output_type": "stream",
          "name": "stdout",
          "text": [
            "Toyota Corolla\n"
          ]
        }
      ]
    },
    {
      "cell_type": "markdown",
      "source": [
        "Example Class Methods:"
      ],
      "metadata": {
        "id": "MXspzUt214yv"
      }
    },
    {
      "cell_type": "code",
      "source": [
        "class Car:\n",
        "    total_cars = 0  # Class attribute to track number of cars\n",
        "\n",
        "    def __init__(self, make, model, year):\n",
        "        self.make = make\n",
        "        self.model = model\n",
        "        self.year = year\n",
        "        Car.total_cars += 1  # Increment total_cars every time a Car instance is created\n",
        "\n",
        "    @classmethod\n",
        "    def display_total_cars(cls):\n",
        "        print(f\"Total number of cars: {cls.total_cars}\")\n",
        "\n",
        "# Create instances of Car\n",
        "car1 = Car(\"Toyota\", \"Corolla\", 2020)\n",
        "car2 = Car(\"Honda\", \"Civic\", 2021)\n",
        "\n",
        "# Call the class method\n",
        "Car.display_total_cars()  # Output: Total number of cars: 2\n"
      ],
      "metadata": {
        "colab": {
          "base_uri": "https://localhost:8080/"
        },
        "id": "Fbm06j881-T_",
        "outputId": "01edde68-d9d2-41e0-d7a9-f1efb8d34ec5"
      },
      "execution_count": null,
      "outputs": [
        {
          "output_type": "stream",
          "name": "stdout",
          "text": [
            "Total number of cars: 2\n"
          ]
        }
      ]
    },
    {
      "cell_type": "markdown",
      "source": [
        "##4. How does Python implement method overloading? Give an example.\n",
        "\n",
        "Ans: Python does not support traditional method overloading like some other languages (e.g., Java or C++), where you can define multiple methods with the same name but different signatures (parameters). Instead, Python allows method overloading through default arguments or variable-length arguments.\n",
        "\n"
      ],
      "metadata": {
        "id": "zATMaPUr2cxu"
      }
    },
    {
      "cell_type": "code",
      "source": [
        "class Calculator:\n",
        "    def add(self, a, b=0, c=0):  # Default arguments for overloading\n",
        "        return a + b + c\n",
        "\n",
        "calc = Calculator()\n",
        "print(calc.add(5))         # Output: 5\n",
        "print(calc.add(5, 10))     # Output: 15\n",
        "print(calc.add(5, 10, 15)) # Output: 30\n"
      ],
      "metadata": {
        "colab": {
          "base_uri": "https://localhost:8080/"
        },
        "id": "ziYCN-PN3Q1K",
        "outputId": "752f4232-b4a2-4139-931b-f2f3d07ef825"
      },
      "execution_count": null,
      "outputs": [
        {
          "output_type": "stream",
          "name": "stdout",
          "text": [
            "5\n",
            "15\n",
            "30\n"
          ]
        }
      ]
    },
    {
      "cell_type": "markdown",
      "source": [
        "##5. What are the three types of access modifiers in Python? How are they denoted?\n",
        "\n",
        "Ans:In Python, access modifiers control the visibility and accessibility of variables, methods, and classes. Python provides three types of access modifiers:\n",
        "\n",
        "1. Public\n",
        "Denotation:  No prefix or a single underscore (_) if used conventionally.\n",
        "Description: Members with public access can be accessed from anywhere, both inside and outside the class. This is the default access level for class members.\n",
        "\n",
        "Example:\n"
      ],
      "metadata": {
        "id": "_ALpx-BI3aB2"
      }
    },
    {
      "cell_type": "code",
      "source": [
        "class MyClass:\n",
        "    def __init__(self):\n",
        "        self.public_var = \"I am public\"\n",
        "\n",
        "obj = MyClass()\n",
        "print(obj.public_var)  # Accessible from outside\n"
      ],
      "metadata": {
        "colab": {
          "base_uri": "https://localhost:8080/"
        },
        "id": "Cmc2H68b4g-B",
        "outputId": "6d5fb8ae-af6d-41ad-c02e-e9fc1b8e6ed5"
      },
      "execution_count": null,
      "outputs": [
        {
          "output_type": "stream",
          "name": "stdout",
          "text": [
            "I am public\n"
          ]
        }
      ]
    },
    {
      "cell_type": "markdown",
      "source": [
        "2. Protected\n",
        "Denotation: Single underscore (_) before the name.\n",
        "\n",
        "Description: Members with protected access can be accessed within the class and its subclasses. While this is a convention, it doesn't enforce restrictions; it signals developers that it is intended for internal use.\n",
        "\n",
        "Example:\n"
      ],
      "metadata": {
        "id": "IkiFpO2e40Uy"
      }
    },
    {
      "cell_type": "code",
      "source": [
        "class MyClass:\n",
        "    def __init__(self):\n",
        "        self._protected_var = \"I am protected\"\n",
        "\n",
        "class SubClass(MyClass):\n",
        "    def access_protected(self):\n",
        "        return self._protected_var\n",
        "\n",
        "obj = SubClass()\n",
        "print(obj.access_protected())  # Accessible in subclass\n"
      ],
      "metadata": {
        "colab": {
          "base_uri": "https://localhost:8080/"
        },
        "id": "NnEiyKIt5DFG",
        "outputId": "f233f508-e710-4b98-8298-8589a2bf5561"
      },
      "execution_count": null,
      "outputs": [
        {
          "output_type": "stream",
          "name": "stdout",
          "text": [
            "I am protected\n"
          ]
        }
      ]
    },
    {
      "cell_type": "markdown",
      "source": [
        "3. Private\n",
        "\n",
        "Denotation: Double underscores (__) before the name.\n",
        "\n",
        "Description: Members with private access are not directly accessible from outside the class. Python uses name mangling to make them harder to access, but they can still be accessed indirectly if needed.\n",
        "\n",
        "Example:\n"
      ],
      "metadata": {
        "id": "O8DGrrBc5KJ5"
      }
    },
    {
      "cell_type": "code",
      "source": [
        "class MyClass:\n",
        "    def __init__(self):\n",
        "        self.__private_var = \"I am private\"\n",
        "\n",
        "    def get_private_var(self):\n",
        "        return self.__private_var\n",
        "\n",
        "obj = MyClass()\n",
        "# print(obj.__private_var)  # This will raise an AttributeError\n",
        "print(obj.get_private_var())  # Accessible via a public method\n"
      ],
      "metadata": {
        "colab": {
          "base_uri": "https://localhost:8080/"
        },
        "id": "nPNMe9ur5Vrz",
        "outputId": "ebd57646-aa33-4ba2-bacb-e6161ff60111"
      },
      "execution_count": null,
      "outputs": [
        {
          "output_type": "stream",
          "name": "stdout",
          "text": [
            "I am private\n"
          ]
        }
      ]
    },
    {
      "cell_type": "markdown",
      "source": [
        "##6. Describe the five types of inheritance in Python. Provide a simple example of multiple inheritance.\n",
        "\n",
        "Ans: Five Types of Inheritance in Python:\n",
        "\n",
        "Single Inheritance: A child class inherits from one parent class.\n",
        "\n",
        "Multiple Inheritance: A child class inherits from multiple parent classes.\n",
        "\n",
        "Multilevel Inheritance: A class inherits from a child class, forming a chain.\n",
        "\n",
        "Hierarchical Inheritance: Multiple child classes inherit from the same parent class.\n",
        "\n",
        "Hybrid Inheritance: A combination of two or more types of inheritance.\n",
        "\n",
        "Example of Multiple Inheritance:"
      ],
      "metadata": {
        "id": "LYduDTv55qx3"
      }
    },
    {
      "cell_type": "code",
      "source": [
        "class Parent1:\n",
        "    def feature1(self):\n",
        "        return \"Feature from Parent1\"\n",
        "\n",
        "class Parent2:\n",
        "    def feature2(self):\n",
        "        return \"Feature from Parent2\"\n",
        "\n",
        "class Child(Parent1, Parent2):\n",
        "    pass\n",
        "\n",
        "obj = Child()\n",
        "print(obj.feature1())  # Feature from Parent1\n",
        "print(obj.feature2())  # Feature from Parent2\n"
      ],
      "metadata": {
        "colab": {
          "base_uri": "https://localhost:8080/"
        },
        "id": "tNlRTEUT6QrJ",
        "outputId": "ba9733eb-f5c2-491e-d67c-35cc6cfcb28e"
      },
      "execution_count": null,
      "outputs": [
        {
          "output_type": "stream",
          "name": "stdout",
          "text": [
            "Feature from Parent1\n",
            "Feature from Parent2\n"
          ]
        }
      ]
    },
    {
      "cell_type": "markdown",
      "source": [
        "## 7. What is the Method Resolution Order (MRO) in Python? How can you retrieve it programmatically?\n",
        "\n",
        "Ans: Method Resolution Order (MRO) in Python\n",
        "\n",
        "The Method Resolution Order (MRO) determines the order in which Python looks for a method or attribute in a class hierarchy when multiple inheritance is involved. It follows the C3 Linearization algorithm, which ensures a consistent and predictable method lookup order.\n",
        "\n",
        "Key Points:\n",
        "\n",
        "The MRO starts from the class itself, then checks its parents (in the order they are listed), and proceeds up the hierarchy until the method is found.\n",
        "\n",
        "It prevents issues like cyclic dependencies and ensures consistency in complex inheritance scenarios.\n",
        "\n",
        "Retrieve MRO Programmatically:"
      ],
      "metadata": {
        "id": "8Q65Gy_b6T6n"
      }
    },
    {
      "cell_type": "code",
      "source": [
        "class A:\n",
        "    pass\n",
        "\n",
        "class B(A):\n",
        "    pass\n",
        "\n",
        "class C(B, A):\n",
        "    pass\n",
        "\n",
        "print(C.mro())       # Outputs the MRO list\n",
        "print(C.__mro__)     # Alternate way\n"
      ],
      "metadata": {
        "colab": {
          "base_uri": "https://localhost:8080/"
        },
        "id": "LnGCyqiZ7W3w",
        "outputId": "827033b0-2395-49f6-cd7f-0d9cc0f7057b"
      },
      "execution_count": null,
      "outputs": [
        {
          "output_type": "stream",
          "name": "stdout",
          "text": [
            "[<class '__main__.C'>, <class '__main__.B'>, <class '__main__.A'>, <class 'object'>]\n",
            "(<class '__main__.C'>, <class '__main__.B'>, <class '__main__.A'>, <class 'object'>)\n"
          ]
        }
      ]
    },
    {
      "cell_type": "markdown",
      "source": [
        "##8. Create an abstract base class `Shape` with an abstract method `area()`. Then create two subclasses\n",
        "`Circle` and `Rectangle` that implement the `area()` method.\n",
        "\n",
        "Ans: Here's an implementation of the Shape abstract base class and its subclasses Circle and Rectangle:\n",
        "\n",
        "Exemple:\n"
      ],
      "metadata": {
        "id": "zXsADEJj7zC8"
      }
    },
    {
      "cell_type": "code",
      "source": [
        "from abc import ABC, abstractmethod\n",
        "import math\n",
        "\n",
        "# Abstract base class\n",
        "class Shape(ABC):\n",
        "    @abstractmethod\n",
        "    def area(self):\n",
        "        \"\"\"Calculate the area of the shape.\"\"\"\n",
        "        pass\n",
        "\n",
        "# Subclass for Circle\n",
        "class Circle(Shape):\n",
        "    def __init__(self, radius):\n",
        "        self.radius = radius\n",
        "\n",
        "    def area(self):\n",
        "        return math.pi * self.radius ** 2\n",
        "\n",
        "# Subclass for Rectangle\n",
        "class Rectangle(Shape):\n",
        "    def __init__(self, width, height):\n",
        "        self.width = width\n",
        "        self.height = height\n",
        "\n",
        "    def area(self):\n",
        "        return self.width * self.height\n",
        "\n",
        "# Example usage\n",
        "circle = Circle(5)\n",
        "rectangle = Rectangle(4, 6)\n",
        "\n",
        "print(f\"Circle area: {circle.area():.2f}\")  # Circle area: 78.54\n",
        "print(f\"Rectangle area: {rectangle.area()}\")  # Rectangle area: 24\n"
      ],
      "metadata": {
        "colab": {
          "base_uri": "https://localhost:8080/"
        },
        "id": "_fN7u69h86cV",
        "outputId": "4acdb342-40cd-4435-d3a6-3134db09b22c"
      },
      "execution_count": null,
      "outputs": [
        {
          "output_type": "stream",
          "name": "stdout",
          "text": [
            "Circle area: 78.54\n",
            "Rectangle area: 24\n"
          ]
        }
      ]
    },
    {
      "cell_type": "markdown",
      "source": [
        "Key Points:\n",
        "\n",
        "The Shape class is marked as abstract using ABC from the abc module.\n",
        "\n",
        "The area() method is abstract, so all subclasses must implement it.\n",
        "\n",
        "The Circle and Rectangle classes provide specific implementations of the area() method.\n",
        "\n",
        "\n",
        "## 9. Demonstrate polymorphism by creating a function that can work with different shape objects to calculate and print their areas.\n",
        "\n",
        "Ans: Here’s an example demonstrating polymorphism with a function that works with different shape objects:\n",
        "\n",
        "Example:\n",
        "\n",
        "\n",
        "\n",
        "\n",
        "\n",
        "\n",
        "\n",
        "\n"
      ],
      "metadata": {
        "id": "kup6oGnd9Bct"
      }
    },
    {
      "cell_type": "code",
      "source": [
        "from abc import ABC, abstractmethod\n",
        "import math\n",
        "\n",
        "# Abstract base class\n",
        "class Shape(ABC):\n",
        "    @abstractmethod\n",
        "    def area(self):\n",
        "        pass\n",
        "\n",
        "# Circle subclass\n",
        "class Circle(Shape):\n",
        "    def __init__(self, radius):\n",
        "        self.radius = radius\n",
        "\n",
        "    def area(self):\n",
        "        return math.pi * self.radius ** 2\n",
        "\n",
        "# Rectangle subclass\n",
        "class Rectangle(Shape):\n",
        "    def __init__(self, width, height):\n",
        "        self.width = width\n",
        "        self.height = height\n",
        "\n",
        "    def area(self):\n",
        "        return self.width * self.height\n",
        "\n",
        "# Function demonstrating polymorphism\n",
        "def print_area(shape):\n",
        "    print(f\"The area of the {type(shape).__name__} is: {shape.area():.2f}\")\n",
        "\n",
        "# Example usage\n",
        "shapes = [Circle(5), Rectangle(4, 6)]\n",
        "\n",
        "for shape in shapes:\n",
        "    print_area(shape)\n"
      ],
      "metadata": {
        "colab": {
          "base_uri": "https://localhost:8080/"
        },
        "id": "XcuZrnAt-cFD",
        "outputId": "548613f1-5ef3-4553-d346-e8309b509aaf"
      },
      "execution_count": null,
      "outputs": [
        {
          "output_type": "stream",
          "name": "stdout",
          "text": [
            "The area of the Circle is: 78.54\n",
            "The area of the Rectangle is: 24.00\n"
          ]
        }
      ]
    },
    {
      "cell_type": "markdown",
      "source": [
        "Explanation:\n",
        "\n",
        "The Shape base class defines an abstract method area().\n",
        "\n",
        "Subclasses Circle and Rectangle provide their own implementations of area().\n",
        "\n",
        "The print_area() function works polymorphically with any Shape object because it relies on the area() method, which is guaranteed to be implemented in all subclasses.\n",
        "\n",
        "\n",
        "## 10. Implement encapsulation in a `BankAccount` class with private attributes for `balance` and `account_number`. Include methods for deposit, withdrawal, and balance inquiry.\n",
        "\n",
        "Ans: Here is an implementation of the BankAccount class using encapsulation:\n",
        "\n",
        "Example:-\n"
      ],
      "metadata": {
        "id": "2dpvJQkZ-oDJ"
      }
    },
    {
      "cell_type": "code",
      "source": [
        "class BankAccount:\n",
        "    def __init__(self, account_number, initial_balance=0):\n",
        "        self.__account_number = account_number  # Private attribute\n",
        "        self.__balance = initial_balance        # Private attribute\n",
        "\n",
        "    def deposit(self, amount):\n",
        "        \"\"\"Deposit money into the account.\"\"\"\n",
        "        if amount > 0:\n",
        "            self.__balance += amount\n",
        "            print(f\"Deposited ${amount:.2f}. New balance: ${self.__balance:.2f}\")\n",
        "        else:\n",
        "            print(\"Deposit amount must be positive.\")\n",
        "\n",
        "    def withdraw(self, amount):\n",
        "        \"\"\"Withdraw money from the account.\"\"\"\n",
        "        if amount > 0:\n",
        "            if amount <= self.__balance:\n",
        "                self.__balance -= amount\n",
        "                print(f\"Withdrew ${amount:.2f}. New balance: ${self.__balance:.2f}\")\n",
        "            else:\n",
        "                print(\"Insufficient funds.\")\n",
        "        else:\n",
        "            print(\"Withdrawal amount must be positive.\")\n",
        "\n",
        "    def get_balance(self):\n",
        "        \"\"\"Return the current balance.\"\"\"\n",
        "        return self.__balance\n",
        "\n",
        "    def get_account_number(self):\n",
        "        \"\"\"Return the account number.\"\"\"\n",
        "        return self.__account_number\n",
        "\n",
        "# Example usage\n",
        "account = BankAccount(\"987654321\", 500)\n",
        "print(f\"Account Number: {account.get_account_number()}\")\n",
        "account.deposit(200)\n",
        "account.withdraw(100)\n",
        "print(f\"Current Balance: ${account.get_balance():.2f}\")\n"
      ],
      "metadata": {
        "colab": {
          "base_uri": "https://localhost:8080/"
        },
        "id": "6qj0NL4VLq-q",
        "outputId": "dc7a83f4-9dd6-41fe-9a44-bf3ce0d91a5e"
      },
      "execution_count": null,
      "outputs": [
        {
          "output_type": "stream",
          "name": "stdout",
          "text": [
            "Account Number: 987654321\n",
            "Deposited $200.00. New balance: $700.00\n",
            "Withdrew $100.00. New balance: $600.00\n",
            "Current Balance: $600.00\n"
          ]
        }
      ]
    },
    {
      "cell_type": "markdown",
      "source": [
        "##Explanation:\n",
        "\n",
        "### Encapsulation:\n",
        "\n",
        "Private attributes (__balance and __account_number) are used to restrict direct access.\n",
        "\n",
        "Access to these attributes is controlled through public methods (deposit, withdraw, get_balance, get_account_number).\n",
        "\n",
        "### Methods:\n",
        "\n",
        "deposit(): Adds money to the balance, ensuring the amount is positive.\n",
        "\n",
        "withdraw(): Deducts money from the balance, ensuring the amount is positive and within the available balance.\n",
        "\n",
        "get_balance(): Returns the current balance.\n",
        "\n",
        "get_account_number(): Returns the account number.\n",
        "\n",
        "### Data Validation:\n",
        "\n",
        "Prevents negative or invalid amounts for deposits and withdrawals.\n",
        "\n",
        "Ensures withdrawals don't exceed the current balance.\n",
        "\n",
        "\n",
        "## 11. Write a class that overrides the `__str__` and `__add__` magic methods. What will these methods allow you to do?\n",
        "\n",
        "Ans: Here’s an implementation of a class that overrides the __str__ and __add__ magic methods:\n",
        "\n",
        "Example:\n",
        "\n"
      ],
      "metadata": {
        "id": "rQhQ9ojPLzjp"
      }
    },
    {
      "cell_type": "code",
      "source": [
        "class Point:\n",
        "    def __init__(self, x, y):\n",
        "        self.x = x\n",
        "        self.y = y\n",
        "\n",
        "    def __str__(self):\n",
        "        \"\"\"Define a user-friendly string representation of the object.\"\"\"\n",
        "        return f\"Point({self.x}, {self.y})\"\n",
        "\n",
        "    def __add__(self, other):\n",
        "        \"\"\"Define addition behavior for two Point objects.\"\"\"\n",
        "        if isinstance(other, Point):\n",
        "            return Point(self.x + other.x, self.y + other.y)\n",
        "        raise TypeError(\"Can only add another Point object.\")\n",
        "\n",
        "# Example usage\n",
        "point1 = Point(2, 3)\n",
        "point2 = Point(4, 5)\n",
        "\n",
        "print(point1)  # Outputs: Point(2, 3)\n",
        "print(point2)  # Outputs: Point(4, 5)\n",
        "\n",
        "result = point1 + point2  # Uses __add__\n",
        "print(result)  # Outputs: Point(6, 8)\n"
      ],
      "metadata": {
        "colab": {
          "base_uri": "https://localhost:8080/"
        },
        "id": "BKH3kWxyNBGz",
        "outputId": "2714d8f6-286d-4e15-fa4b-9fc92cd55e9d"
      },
      "execution_count": null,
      "outputs": [
        {
          "output_type": "stream",
          "name": "stdout",
          "text": [
            "Point(2, 3)\n",
            "Point(4, 5)\n",
            "Point(6, 8)\n"
          ]
        }
      ]
    },
    {
      "cell_type": "markdown",
      "source": [
        "## 12. Create a decorator that measures and prints the execution time of a function.\n",
        "\n",
        "Ans: Here’s a short implementation of a decorator that measures and prints the execution time of a function:\n",
        "\n",
        "Example:\n"
      ],
      "metadata": {
        "id": "ojwkqXwRNG-R"
      }
    },
    {
      "cell_type": "code",
      "source": [
        "import time\n",
        "\n",
        "def execution_time(func):\n",
        "    def wrapper(*args, **kwargs):\n",
        "        start_time = time.time()\n",
        "        result = func(*args, **kwargs)\n",
        "        end_time = time.time()\n",
        "        print(f\"Execution time: {end_time - start_time:.6f} seconds\")\n",
        "        return result\n",
        "    return wrapper\n",
        "\n",
        "@execution_time\n",
        "def example_function():\n",
        "    total = sum(i ** 2 for i in range(100000))\n",
        "    return total\n",
        "\n",
        "example_function()\n"
      ],
      "metadata": {
        "colab": {
          "base_uri": "https://localhost:8080/"
        },
        "id": "vdauPNw1Nk12",
        "outputId": "521d947d-5822-4c85-ec57-e4c2bd4e19ce"
      },
      "execution_count": null,
      "outputs": [
        {
          "output_type": "stream",
          "name": "stdout",
          "text": [
            "Execution time: 0.036948 seconds\n"
          ]
        },
        {
          "output_type": "execute_result",
          "data": {
            "text/plain": [
              "333328333350000"
            ]
          },
          "metadata": {},
          "execution_count": 14
        }
      ]
    },
    {
      "cell_type": "markdown",
      "source": [
        "##Explanation:\n",
        "\n",
        "execution_time is the decorator that wraps the function and measures its execution time.\n",
        "\n",
        "It prints the time difference between the start and end of the function call.\n",
        "\n",
        "\n",
        "## 13. Explain the concept of the Diamond Problem in multiple inheritance. How does Python resolve it?\n",
        "\n",
        "Ans: The Diamond Problem occurs in multiple inheritance when a class inherits from two classes that have a common ancestor. This creates a \"diamond\" shape in the inheritance hierarchy, potentially causing ambiguity in method resolution if the common ancestor's method is inherited through multiple paths.\n",
        "\n",
        "\n",
        "Example:\n",
        "\n",
        "\n",
        "\n",
        "\n",
        "\n"
      ],
      "metadata": {
        "id": "6ykds6FBNwNU"
      }
    },
    {
      "cell_type": "code",
      "source": [
        "class A:\n",
        "    def greet(self):\n",
        "        print(\"Hello from A\")\n",
        "\n",
        "class B(A):\n",
        "    def greet(self):\n",
        "        print(\"Hello from B\")\n",
        "\n",
        "class C(A):\n",
        "    def greet(self):\n",
        "        print(\"Hello from C\")\n",
        "\n",
        "class D(B, C):\n",
        "    pass\n",
        "\n",
        "d = D()\n",
        "d.greet()  # Which greet() should be called?\n"
      ],
      "metadata": {
        "colab": {
          "base_uri": "https://localhost:8080/"
        },
        "id": "2hLetglLOVwm",
        "outputId": "59b86d0f-6910-4c03-e5b6-1ba56b9fbb65"
      },
      "execution_count": null,
      "outputs": [
        {
          "output_type": "stream",
          "name": "stdout",
          "text": [
            "Hello from B\n"
          ]
        }
      ]
    },
    {
      "cell_type": "markdown",
      "source": [
        "##Python's Resolution:\n",
        "\n",
        "Python uses the C3 Linearization algorithm (Method Resolution Order - MRO) to resolve the Diamond Problem. It ensures a consistent and predictable order of method lookup. In the case above, Python will use the MRO to determine which greet() method to call from the classes.\n",
        "\n",
        "##How Python Resolves It:\n",
        "\n",
        "Python follows the MRO, which for class D would be: D -> B -> C -> A.\n",
        "Thus, Python will call greet() from B (the first class in the MRO that defines it).\n",
        "You can view the MRO using D.mro() or D.__mro__.\n",
        "\n",
        "\n",
        "## 14. Write a class method that keeps track of the number of instances created from a class.\n",
        "\n",
        "Ans: Here’s a complete example of a class that tracks the number of instances created using a class method:\n",
        "\n",
        "Example\n",
        "\n"
      ],
      "metadata": {
        "id": "5t2fhvakOZjl"
      }
    },
    {
      "cell_type": "code",
      "source": [
        "class InstanceCounter:\n",
        "    _instance_count = 0  # Private class variable to track instances\n",
        "\n",
        "    def __init__(self):\n",
        "        InstanceCounter._instance_count += 1\n",
        "\n",
        "    @classmethod\n",
        "    def get_instance_count(cls):\n",
        "        \"\"\"Class method to return the number of instances created.\"\"\"\n",
        "        return cls._instance_count\n"
      ],
      "metadata": {
        "id": "PuPIACUd-Z-C"
      },
      "execution_count": null,
      "outputs": []
    },
    {
      "cell_type": "code",
      "source": [
        "a = InstanceCounter()\n",
        "b = InstanceCounter()\n",
        "c = InstanceCounter()\n",
        "\n",
        "print(InstanceCounter.get_instance_count())  # Output: 3\n"
      ],
      "metadata": {
        "colab": {
          "base_uri": "https://localhost:8080/"
        },
        "id": "BvTaVcop-yU1",
        "outputId": "03a807f9-7a2a-437e-aa2a-17c1393830d7"
      },
      "execution_count": null,
      "outputs": [
        {
          "output_type": "stream",
          "name": "stdout",
          "text": [
            "3\n"
          ]
        }
      ]
    },
    {
      "cell_type": "markdown",
      "source": [
        "## 15. Implement a static method in a class that checks if a given year is a leap year.\n",
        "\n",
        "Ans: To implement a static method in a class that checks if a given year is a leap year, you can use the following logic:\n",
        "\n",
        "A leap year occurs if:\n",
        "\n",
        "The year is divisible by 4, but\n",
        "\n",
        "It is not divisible by 100, unless\n",
        "\n",
        "The year is also divisible by 400.\n",
        "\n",
        "Example:-\n",
        "\n"
      ],
      "metadata": {
        "id": "z5zJbLyb-2Rj"
      }
    },
    {
      "cell_type": "code",
      "source": [
        "class Year:\n",
        "    @staticmethod\n",
        "    def is_leap_year(year):\n",
        "        # Check if year is divisible by 4 and (not divisible by 100 or divisible by 400)\n",
        "        if (year % 4 == 0 and year % 100 != 0) or (year % 400 == 0):\n",
        "            return True\n",
        "        return False\n",
        "\n",
        "# Example usage:\n",
        "year = 2024\n",
        "print(f\"{year} is a leap year: {Year.is_leap_year(year)}\")\n",
        "\n",
        "year = 1900\n",
        "print(f\"{year} is a leap year: {Year.is_leap_year(year)}\")\n",
        "\n",
        "year = 2000\n",
        "print(f\"{year} is a leap year: {Year.is_leap_year(year)}\")\n"
      ],
      "metadata": {
        "colab": {
          "base_uri": "https://localhost:8080/"
        },
        "id": "BucZ_lbgviWa",
        "outputId": "a4b2938d-f30e-456c-f169-8a0172183cf4"
      },
      "execution_count": 1,
      "outputs": [
        {
          "output_type": "stream",
          "name": "stdout",
          "text": [
            "2024 is a leap year: True\n",
            "1900 is a leap year: False\n",
            "2000 is a leap year: True\n"
          ]
        }
      ]
    }
  ]
}