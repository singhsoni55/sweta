{
  "nbformat": 4,
  "nbformat_minor": 0,
  "metadata": {
    "colab": {
      "provenance": [],
      "authorship_tag": "ABX9TyMVzoxweVAtipzYWbzHrYGN",
      "include_colab_link": true
    },
    "kernelspec": {
      "name": "python3",
      "display_name": "Python 3"
    },
    "language_info": {
      "name": "python"
    }
  },
  "cells": [
    {
      "cell_type": "markdown",
      "metadata": {
        "id": "view-in-github",
        "colab_type": "text"
      },
      "source": [
        "<a href=\"https://colab.research.google.com/github/singhsoni55/sweta/blob/main/Basic_python.ipynb\" target=\"_parent\"><img src=\"https://colab.research.google.com/assets/colab-badge.svg\" alt=\"Open In Colab\"/></a>"
      ]
    },
    {
      "cell_type": "markdown",
      "source": [
        "##Q1) explain the key features of python that make it a popular choice for programming ?\n",
        "\n",
        "Ans: Python is popular because of its:\n",
        "\n",
        "1)Readability: Simple, clear syntax that resembles natural language.\n",
        "\n",
        "2)Extensive Library: Rich standard library for various tasks.\n",
        "\n",
        "3)Cross-platform: Works on Windows, macOS, Linux without modification.\n",
        "\n",
        "4)High-level: Abstracts complex system-level details for ease of use.\n",
        "\n",
        "5)Interpreted: No need for compilation, supports interactive development.\n",
        "\n",
        "6)Versatility: Used in web development, data science, machine learning, automation, and more.\n",
        "\n",
        "7)Large Community: Active community with extensive resources and third-party libraries.\n",
        "\n",
        "8)Integration: Easily integrates with other languages and technologies.\n",
        "\n",
        "9)Multiple Paradigms: Supports OOP, functional, and procedural programming.\n",
        "\n",
        "10)Rapid Development: Facilitates quick prototyping and iterative development.\n",
        "\n",
        "11)Open-source: Free to use, maintained by the Python Software Foundation.\n",
        "\n",
        "These features make Python both beginner-friendly and powerful for professional software development.\n",
        "\n",
        "\n",
        "## Q2) Describe the role of predefined keywords in Python and provide examples of how they are used in a program .\n",
        "\n",
        "Ans: In Python, predefined keywords are reserved words with specific meanings and functionalities that cannot be used as identifiers (like variable names or function names). They are the building blocks of the Python language, defining its syntax and structure.\n",
        "\n",
        "Here's a breakdown of their role and examples:\n",
        "\n",
        "##Role:\n",
        "\n",
        "Defining Syntax:\n",
        "\n",
        "Keywords like if, else, for, while, and def dictate the structure of control flow statements, loops, and function definitions.\n",
        "\n",
        "Data Manipulation:\n",
        "\n",
        "Keywords like del, in, not, is, and and are used for operations on data, such as deleting objects, checking membership, and performing logical operations.\n",
        "\n",
        "Object-Oriented Programming:\n",
        "\n",
        "Keywords like class, self, super, and pass are fundamental to defining classes, objects, and inheritance in Python.\n",
        "\n",
        "Error Handling:\n",
        "\n",
        "Keywords like try, except, finally, and raise enable handling exceptions and errors gracefully.\n",
        "\n",
        "\n"
      ],
      "metadata": {
        "id": "fhyOCPGLGxaG"
      }
    },
    {
      "cell_type": "code",
      "source": [
        "# Control flow\n",
        "if x > 5:\n",
        "  print(\"x is greater than 5\")\n",
        "else:\n",
        "  print(\"x is less than or equal to 5\")\n",
        "\n",
        "# Looping\n",
        "for i in range(5):\n",
        "  print(i)\n",
        "\n",
        "# Function definition\n",
        "def add(a, b):\n",
        "  return a + b\n",
        "\n",
        "# Object-oriented programming\n",
        "class Dog:\n",
        "  def __init__(self, name):\n",
        "    self.name = name\n",
        "\n",
        "  def bark(self):\n",
        "    print(\"Woof!\")\n",
        "\n",
        "# Error handling\n",
        "try:\n",
        "  x = 1 / 0\n",
        "except ZeroDivisionError:\n",
        "  print(\"Cannot divide by zero\")"
      ],
      "metadata": {
        "id": "lQF6IuSMJV3E"
      },
      "execution_count": null,
      "outputs": []
    },
    {
      "cell_type": "markdown",
      "source": [
        "##Q3) Compare and contrast mutable and immutable objects in Python with examples ?\n",
        "\n",
        "Ans:In Python, objects are classified as mutable or immutable based on whether their content can be changed after creation.\n",
        "\n",
        "##Mutable Objects:\n",
        "\n",
        "Definition: Objects whose content can be modified after creation.\n",
        "Examples: Lists, Dictionaries, Sets.\n",
        "\n",
        "Behavior: Modifying a mutable object does not create a new object; the original object is changed.\n",
        "\n"
      ],
      "metadata": {
        "id": "WRXUytFCJbUa"
      }
    },
    {
      "cell_type": "code",
      "source": [
        "my_list = [1, 2, 3]\n",
        "my_list.append(4)  # Modifies the original list\n",
        "print(my_list)  # Output: [1, 2, 3, 4]\n"
      ],
      "metadata": {
        "colab": {
          "base_uri": "https://localhost:8080/"
        },
        "id": "qhBqM7piKdTX",
        "outputId": "1936dfe5-5c00-49ca-d83c-d17e8991d6c5"
      },
      "execution_count": null,
      "outputs": [
        {
          "output_type": "stream",
          "name": "stdout",
          "text": [
            "[1, 2, 3, 4]\n"
          ]
        }
      ]
    },
    {
      "cell_type": "markdown",
      "source": [
        "##Immutable Objects:\n",
        "\n",
        "Definition: Objects whose content cannot be changed after creation.\n",
        "\n",
        "Examples: Integers, Strings, Tuples.\n",
        "\n",
        "Behavior: Any modification creates a new object rather than changing the original."
      ],
      "metadata": {
        "id": "Ww6mh7lNKfPu"
      }
    },
    {
      "cell_type": "code",
      "source": [
        "my_string = \"hello\"\n",
        "my_string += \" world\"  # Creates a new string, original remains unchanged\n",
        "print(my_string)  # Output: \"hello world\"\n"
      ],
      "metadata": {
        "colab": {
          "base_uri": "https://localhost:8080/"
        },
        "id": "rXFkuvxnKqIT",
        "outputId": "f95bf123-6f52-4de8-b6d0-1776b0d1f64e"
      },
      "execution_count": null,
      "outputs": [
        {
          "output_type": "stream",
          "name": "stdout",
          "text": [
            "hello world\n"
          ]
        }
      ]
    },
    {
      "cell_type": "markdown",
      "source": [
        "##Q4)Discuss the different types of operators in Python and provide examples of how they are used ?\n",
        "\n",
        "Ans: Python has several types of operators, each serving different purposes. Here's a brief overview of the main types with examples:\n",
        "\n",
        "1. Arithmetic Operators\n",
        "\n",
        "Used for mathematical operations.\n",
        "\n",
        "+: Addition\n",
        "-: Subtraction\n",
        "*: Multiplication\n",
        "/: Division\n",
        "//: Floor Division\n",
        "%: Modulus\n",
        "**: Exponentiation\n",
        "\n",
        "\n"
      ],
      "metadata": {
        "id": "hbWo61M_Kzzl"
      }
    },
    {
      "cell_type": "code",
      "source": [
        "x = 5\n",
        "y = 3\n",
        "print(x + y)  # 8\n",
        "print(x / y)  # 1.666...\n"
      ],
      "metadata": {
        "colab": {
          "base_uri": "https://localhost:8080/"
        },
        "id": "OR9S-8ZxLu5t",
        "outputId": "6fb5cf3c-ca05-4fe9-f663-204d3118a3a3"
      },
      "execution_count": null,
      "outputs": [
        {
          "output_type": "stream",
          "name": "stdout",
          "text": [
            "8\n",
            "1.6666666666666667\n"
          ]
        }
      ]
    },
    {
      "cell_type": "markdown",
      "source": [
        "2. Comparison (Relational) Operators\n",
        "Used to compare values.\n",
        "\n",
        "==: Equal to\n",
        "!=: Not equal to\n",
        ">: Greater than\n",
        "<: Less than\n",
        ">=: Greater than or equal to\n",
        "<=: Less than or equal to"
      ],
      "metadata": {
        "id": "TeclNm0cLyC5"
      }
    },
    {
      "cell_type": "code",
      "source": [
        "x = 5\n",
        "y = 3\n",
        "print(x == y)  # False\n",
        "print(x > y)   # True\n"
      ],
      "metadata": {
        "colab": {
          "base_uri": "https://localhost:8080/"
        },
        "id": "xgvi7FY3L7bX",
        "outputId": "354ede70-6886-48b2-cc33-498fbff7fb85"
      },
      "execution_count": null,
      "outputs": [
        {
          "output_type": "stream",
          "name": "stdout",
          "text": [
            "False\n",
            "True\n"
          ]
        }
      ]
    },
    {
      "cell_type": "markdown",
      "source": [
        "3. Logical Operators\n",
        "Used to combine conditional statements.\n",
        "\n",
        "and: Both conditions must be true\n",
        "or: At least one condition must be true\n",
        "not: Reverses the boolean value"
      ],
      "metadata": {
        "id": "wrmf_KIWL-5K"
      }
    },
    {
      "cell_type": "code",
      "source": [
        "x = True\n",
        "y = False\n",
        "print(x and y)  # False\n",
        "print(not x)    # False\n"
      ],
      "metadata": {
        "colab": {
          "base_uri": "https://localhost:8080/"
        },
        "id": "l_PeRwhqMIkb",
        "outputId": "845e62b4-e2cb-4eba-ab4e-a5d758018123"
      },
      "execution_count": null,
      "outputs": [
        {
          "output_type": "stream",
          "name": "stdout",
          "text": [
            "False\n",
            "False\n"
          ]
        }
      ]
    },
    {
      "cell_type": "markdown",
      "source": [
        "4. Assignment Operators\n",
        "\n",
        "Used to assign values to variables.\n",
        "\n",
        "=: Assignment\n",
        "+=: Add and assign\n",
        "-=: Subtract and assign\n",
        "Example:"
      ],
      "metadata": {
        "id": "0BWjfN1JMcpM"
      }
    },
    {
      "cell_type": "code",
      "source": [
        "x = 5\n",
        "x += 3  # x = x + 3\n",
        "print(x)  # 8\n"
      ],
      "metadata": {
        "colab": {
          "base_uri": "https://localhost:8080/"
        },
        "id": "J_32Fw3OMesZ",
        "outputId": "9502004d-157f-4646-e7e0-5b21e9fec26b"
      },
      "execution_count": null,
      "outputs": [
        {
          "output_type": "stream",
          "name": "stdout",
          "text": [
            "8\n"
          ]
        }
      ]
    },
    {
      "cell_type": "markdown",
      "source": [
        "5. Identity Operators\n",
        "\n",
        "Used to check if two variables refer to the same object.\n",
        "\n",
        "is: Returns True if both variables point to the same object\n",
        "\n",
        "is not: Returns True if both variables point to different objects"
      ],
      "metadata": {
        "id": "_gnWbv_OMh8G"
      }
    },
    {
      "cell_type": "code",
      "source": [
        "x = [1, 2]\n",
        "y = [1, 2]\n",
        "print(x is y)  # False\n"
      ],
      "metadata": {
        "colab": {
          "base_uri": "https://localhost:8080/"
        },
        "id": "OHRN6dE0MsEn",
        "outputId": "c4e5ab44-4691-4eae-dd23-baa819b1e6d2"
      },
      "execution_count": null,
      "outputs": [
        {
          "output_type": "stream",
          "name": "stdout",
          "text": [
            "False\n"
          ]
        }
      ]
    },
    {
      "cell_type": "markdown",
      "source": [
        "##6. Membership Operators\n",
        "\n",
        "Used to check if a value is present in a sequence.\n",
        "\n",
        "in: Checks if a value exists in a sequence\n",
        "\n",
        "not in: Checks if a value does not exist in a sequence\n",
        "\n"
      ],
      "metadata": {
        "id": "3j7J9XNJM1_h"
      }
    },
    {
      "cell_type": "code",
      "source": [
        "x = [1, 2, 3]\n",
        "print(2 in x)  # True\n"
      ],
      "metadata": {
        "colab": {
          "base_uri": "https://localhost:8080/"
        },
        "id": "O5vcWyAiNYtQ",
        "outputId": "3fa244d6-4f30-4645-ca26-cb8e869f44f2"
      },
      "execution_count": null,
      "outputs": [
        {
          "output_type": "stream",
          "name": "stdout",
          "text": [
            "True\n"
          ]
        }
      ]
    },
    {
      "cell_type": "markdown",
      "source": [
        "##7. Bitwise Operators\n",
        "\n",
        "Used to perform bit-level operations.\n",
        "\n",
        "&: AND\n",
        "\n",
        "|: OR\n",
        "\n",
        "^: XOR\n",
        "\n",
        "~: NOT\n",
        "\n",
        "<<: Left shift\n",
        "\n",
        ">>: Right shift"
      ],
      "metadata": {
        "id": "WB_Ap1xyNeyE"
      }
    },
    {
      "cell_type": "code",
      "source": [
        "x = 5  # (0101)\n",
        "y = 3  # (0011)\n",
        "print(x & y)  # 1 (0001)\n"
      ],
      "metadata": {
        "colab": {
          "base_uri": "https://localhost:8080/"
        },
        "id": "nEFYR4O1NvlP",
        "outputId": "953b641f-a26e-420a-fe5c-fb0b8cc53637"
      },
      "execution_count": null,
      "outputs": [
        {
          "output_type": "stream",
          "name": "stdout",
          "text": [
            "1\n"
          ]
        }
      ]
    },
    {
      "cell_type": "markdown",
      "source": [
        "8. Ternary (Conditional) Operator\n",
        "\n",
        "A shorthand for an if-else statement.\n",
        "\n",
        "<expr1> if <condition> else <expr2>"
      ],
      "metadata": {
        "id": "4Ali9RGmN38Y"
      }
    },
    {
      "cell_type": "code",
      "source": [
        "x = 5\n",
        "result = \"Even\" if x % 2 == 0 else \"Odd\"\n",
        "print(result)  # Odd\n"
      ],
      "metadata": {
        "id": "0VovWYYIN5Vf"
      },
      "execution_count": null,
      "outputs": []
    },
    {
      "cell_type": "markdown",
      "source": [
        "##Q5)Explain the concept of type casting in Python with examples ?\n",
        "\n",
        "Ans: Type casting in Python refers to the process of converting one data type into another. Python provides two types of casting:\n",
        "\n",
        "Implicit Type Casting (Type Coercion): This is done automatically by Python when it converts a smaller or simpler data type into a larger or more complex data type.\n",
        "\n",
        "Explicit Type Casting: This is done manually by the programmer using the built-in int(), float(), str(), and other type conversion functions.\n",
        "\n",
        "1. Implicit Type Casting (Type Coercion)\n",
        "Python automatically converts a smaller data type to a larger one without losing information. This happens when performing operations between different data types.\n",
        "\n",
        "2. Explicit Type Casting\n",
        "Explicit casting is done by using the built-in functions to convert one data type into another. Common functions for explicit casting are:\n",
        "\n",
        "int(): Converts to an integer.\n",
        "float(): Converts to a float.\n",
        "str(): Converts to a string.\n"
      ],
      "metadata": {
        "id": "_Ss2sZrDOLLY"
      }
    },
    {
      "cell_type": "code",
      "source": [
        "x = 5        # int\n",
        "y = 2.5      # float\n",
        "z = x + y    # int + float results in float (implicit casting)\n",
        "\n",
        "print(z)  # Output: 7.5 (float)\n"
      ],
      "metadata": {
        "colab": {
          "base_uri": "https://localhost:8080/"
        },
        "id": "wEpVGBfpOtbR",
        "outputId": "bc4a5482-8e11-4534-9184-24c99a50c7ae"
      },
      "execution_count": null,
      "outputs": [
        {
          "output_type": "stream",
          "name": "stdout",
          "text": [
            "7.5\n"
          ]
        }
      ]
    },
    {
      "cell_type": "markdown",
      "source": [
        "##Q6) How do conditional statements work in Python? Illustrate with examples ?\n",
        "\n",
        "Ans: Conditional statements in Python allow you to execute different code blocks based on certain conditions. The main keywords used are if, elif, and else.\n",
        "\n",
        "1. Basic if Statement\n",
        "The if statement checks whether a condition is True. If the condition is True, the block of code inside the if statement is executed.\n"
      ],
      "metadata": {
        "id": "Uksd1V8HoTIY"
      }
    },
    {
      "cell_type": "code",
      "source": [
        "x = 10\n",
        "if x > 5:\n",
        "    print(\"x is greater than 5\")\n"
      ],
      "metadata": {
        "colab": {
          "base_uri": "https://localhost:8080/"
        },
        "id": "-3WyNoAYpq0T",
        "outputId": "2970204e-322e-42e8-e3b1-dce08cbacdc9"
      },
      "execution_count": 1,
      "outputs": [
        {
          "output_type": "stream",
          "name": "stdout",
          "text": [
            "x is greater than 5\n"
          ]
        }
      ]
    },
    {
      "cell_type": "markdown",
      "source": [
        "2. if-else Statement\n",
        "\n",
        "The if-else statement allows you to define an alternative block of code that will be executed if the condition is False."
      ],
      "metadata": {
        "id": "dzpNgOaOp3n-"
      }
    },
    {
      "cell_type": "code",
      "source": [
        "x = 3\n",
        "if x > 5:\n",
        "    print(\"x is greater than 5\")\n",
        "else:\n",
        "    print(\"x is not greater than 5\")\n"
      ],
      "metadata": {
        "colab": {
          "base_uri": "https://localhost:8080/"
        },
        "id": "qtW4Q2pHp6Hb",
        "outputId": "962df047-284b-4789-9504-40927d6dd417"
      },
      "execution_count": 2,
      "outputs": [
        {
          "output_type": "stream",
          "name": "stdout",
          "text": [
            "x is not greater than 5\n"
          ]
        }
      ]
    },
    {
      "cell_type": "markdown",
      "source": [
        "3. if-elif-else Statement\n",
        "\n",
        "The elif (short for \"else if\") statement allows you to check multiple conditions. Once a condition is True, its corresponding block of code is executed, and the rest are skipped."
      ],
      "metadata": {
        "id": "-r2daiKiqAfO"
      }
    },
    {
      "cell_type": "code",
      "source": [
        "x = 10\n",
        "if x > 15:\n",
        "    print(\"x is greater than 15\")\n",
        "elif x > 5:\n",
        "    print(\"x is greater than 5 but less than or equal to 15\")\n",
        "else:\n",
        "    print(\"x is less than or equal to 5\")\n"
      ],
      "metadata": {
        "colab": {
          "base_uri": "https://localhost:8080/"
        },
        "id": "wp58Jd3vqHFu",
        "outputId": "e3965f76-4770-44cc-907a-8f395e16fb1d"
      },
      "execution_count": 3,
      "outputs": [
        {
          "output_type": "stream",
          "name": "stdout",
          "text": [
            "x is greater than 5 but less than or equal to 15\n"
          ]
        }
      ]
    },
    {
      "cell_type": "markdown",
      "source": [
        "4. Nested if Statements\n",
        "\n",
        "You can nest one if statement inside another to handle more complex conditions."
      ],
      "metadata": {
        "id": "CqKii5k0qOE0"
      }
    },
    {
      "cell_type": "code",
      "source": [
        "x = 10\n",
        "y = 20\n",
        "if x > 5:\n",
        "    if y > 15:\n",
        "        print(\"x is greater than 5 and y is greater than 15\")\n",
        "    else:\n",
        "        print(\"x is greater than 5 but y is not greater than 15\")\n",
        "else:\n",
        "    print(\"x is not greater than 5\")\n"
      ],
      "metadata": {
        "colab": {
          "base_uri": "https://localhost:8080/"
        },
        "id": "MhYuSjonqTz6",
        "outputId": "a13d34cb-04dd-4f2a-ef54-a7595b43cb31"
      },
      "execution_count": 4,
      "outputs": [
        {
          "output_type": "stream",
          "name": "stdout",
          "text": [
            "x is greater than 5 and y is greater than 15\n"
          ]
        }
      ]
    },
    {
      "cell_type": "markdown",
      "source": [
        "5. Boolean Expressions\n",
        "\n",
        "Python supports logical operators like and, or, and not to combine multiple conditions.\n",
        "\n",
        "and: Both conditions must be True.\n",
        "\n",
        "or: At least one condition must be True.\n",
        "\n",
        "not: Negates the condition."
      ],
      "metadata": {
        "id": "jOYOpt8FqYRP"
      }
    },
    {
      "cell_type": "code",
      "source": [
        "x = 10\n",
        "y = 5\n",
        "if x > 5 and y < 10:\n",
        "    print(\"x is greater than 5 and y is less than 10\")\n"
      ],
      "metadata": {
        "colab": {
          "base_uri": "https://localhost:8080/"
        },
        "id": "cZJbTNttqed3",
        "outputId": "cd531506-2284-46c1-bd1a-1f9dc5a74af6"
      },
      "execution_count": 5,
      "outputs": [
        {
          "output_type": "stream",
          "name": "stdout",
          "text": [
            "x is greater than 5 and y is less than 10\n"
          ]
        }
      ]
    },
    {
      "cell_type": "markdown",
      "source": [
        "6. Ternary Conditional (Inline if)\n",
        "\n",
        "Python also supports a compact form of if-else called the ternary conditional.\n",
        "\n",
        "It allows you to evaluate a condition and return one of two values in a single line."
      ],
      "metadata": {
        "id": "1cyKbX29qheM"
      }
    },
    {
      "cell_type": "code",
      "source": [
        "x = 7\n",
        "result = \"Even\" if x % 2 == 0 else \"Odd\"\n",
        "print(result)\n"
      ],
      "metadata": {
        "colab": {
          "base_uri": "https://localhost:8080/"
        },
        "id": "Nb1CACKjqsKP",
        "outputId": "f63514fd-035a-4426-c6ce-57133f4024ed"
      },
      "execution_count": 6,
      "outputs": [
        {
          "output_type": "stream",
          "name": "stdout",
          "text": [
            "Odd\n"
          ]
        }
      ]
    },
    {
      "cell_type": "markdown",
      "source": [
        "##Q7) Describe the different types of loops in Python and their use cases with examples.\n",
        "\n",
        "Ans: In Python, there are two main types of loops: for loops and while loops, each with specific use cases.\n",
        "\n",
        "1. for Loop:\n",
        "\n",
        "Used to iterate over a sequence (like a list, tuple, string, or range). Ideal when the number of iterations is known or fixed.\n",
        "\n",
        "\n"
      ],
      "metadata": {
        "id": "5HEccJy9q4eR"
      }
    },
    {
      "cell_type": "code",
      "source": [
        "# Iterating over a list\n",
        "fruits = ['apple', 'banana', 'cherry']\n",
        "for fruit in fruits:\n",
        "    print(fruit)\n"
      ],
      "metadata": {
        "colab": {
          "base_uri": "https://localhost:8080/"
        },
        "id": "-XQ3zPJFrqJ5",
        "outputId": "b69bdf79-2aa2-45a8-e96b-49d0e703c445"
      },
      "execution_count": 7,
      "outputs": [
        {
          "output_type": "stream",
          "name": "stdout",
          "text": [
            "apple\n",
            "banana\n",
            "cherry\n"
          ]
        }
      ]
    },
    {
      "cell_type": "markdown",
      "source": [
        "2. while Loop:\n",
        "\n",
        "Repeats a block of code as long as a condition is True. Best when the number of iterations is unknown or depends on dynamic conditions."
      ],
      "metadata": {
        "id": "NmLMDT1xrtaJ"
      }
    },
    {
      "cell_type": "code",
      "source": [
        "count = 0\n",
        "while count < 5:\n",
        "    print(count)\n",
        "    count += 1\n"
      ],
      "metadata": {
        "colab": {
          "base_uri": "https://localhost:8080/"
        },
        "id": "1EVQ7WPIr0wu",
        "outputId": "126552e1-373c-4174-caf2-f5d5c157b236"
      },
      "execution_count": 8,
      "outputs": [
        {
          "output_type": "stream",
          "name": "stdout",
          "text": [
            "0\n",
            "1\n",
            "2\n",
            "3\n",
            "4\n"
          ]
        }
      ]
    },
    {
      "cell_type": "markdown",
      "source": [
        "3. break Statement:\n",
        "\n",
        "Exits the loop prematurely, regardless of the loop's condition."
      ],
      "metadata": {
        "id": "8Yoei1mvr694"
      }
    },
    {
      "cell_type": "code",
      "source": [
        "for i in range(10):\n",
        "    if i == 5:\n",
        "        break  # Stops the loop when i equals 5\n",
        "    print(i)\n"
      ],
      "metadata": {
        "colab": {
          "base_uri": "https://localhost:8080/"
        },
        "id": "otCniGhUsBvG",
        "outputId": "a6585037-67ac-4b7d-8fbd-65a8dc1f77db"
      },
      "execution_count": 9,
      "outputs": [
        {
          "output_type": "stream",
          "name": "stdout",
          "text": [
            "0\n",
            "1\n",
            "2\n",
            "3\n",
            "4\n"
          ]
        }
      ]
    },
    {
      "cell_type": "markdown",
      "source": [
        "4. continue Statement:\n",
        "\n",
        "Skips the current iteration and moves to the next one."
      ],
      "metadata": {
        "id": "wxe8Yz36sFek"
      }
    },
    {
      "cell_type": "code",
      "source": [
        "for i in range(5):\n",
        "    if i == 3:\n",
        "        continue  # Skips the iteration when i is 3\n",
        "    print(i)\n"
      ],
      "metadata": {
        "colab": {
          "base_uri": "https://localhost:8080/"
        },
        "id": "HfmKz8mXsNbs",
        "outputId": "08411aaa-0caf-448a-f136-437c45b1df88"
      },
      "execution_count": 10,
      "outputs": [
        {
          "output_type": "stream",
          "name": "stdout",
          "text": [
            "0\n",
            "1\n",
            "2\n",
            "4\n"
          ]
        }
      ]
    },
    {
      "cell_type": "markdown",
      "source": [
        "5. else Clause in Loops:\n",
        "\n",
        "Executed after the loop completes normally (i.e., not interrupted by break).\n",
        "\n"
      ],
      "metadata": {
        "id": "jVM28IH4sS2a"
      }
    },
    {
      "cell_type": "code",
      "source": [
        "for i in range(5):\n",
        "    print(i)\n",
        "else:\n",
        "    print(\"Loop finished\")\n"
      ],
      "metadata": {
        "colab": {
          "base_uri": "https://localhost:8080/"
        },
        "id": "_OYlrBzZsax2",
        "outputId": "c9af777c-abe6-4851-caab-ae876bc3b2cb"
      },
      "execution_count": 11,
      "outputs": [
        {
          "output_type": "stream",
          "name": "stdout",
          "text": [
            "0\n",
            "1\n",
            "2\n",
            "3\n",
            "4\n",
            "Loop finished\n"
          ]
        }
      ]
    }
  ]
}