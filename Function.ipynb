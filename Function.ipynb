{
  "nbformat": 4,
  "nbformat_minor": 0,
  "metadata": {
    "colab": {
      "provenance": [],
      "authorship_tag": "ABX9TyM2a7nu03mmqW38tD35aC+x",
      "include_colab_link": true
    },
    "kernelspec": {
      "name": "python3",
      "display_name": "Python 3"
    },
    "language_info": {
      "name": "python"
    }
  },
  "cells": [
    {
      "cell_type": "markdown",
      "metadata": {
        "id": "view-in-github",
        "colab_type": "text"
      },
      "source": [
        "<a href=\"https://colab.research.google.com/github/singhsoni55/sweta/blob/main/Function.ipynb\" target=\"_parent\"><img src=\"https://colab.research.google.com/assets/colab-badge.svg\" alt=\"Open In Colab\"/></a>"
      ]
    },
    {
      "cell_type": "markdown",
      "source": [
        "##Q1. What is the difference between a function and a method in Python?\n",
        "\n",
        "Ans: In Python:\n",
        "\n",
        "- **Function**: A block of reusable code that is defined independently using the `def` keyword and can be called on its own.\n",
        "- **Method**: A function that is associated with an object or class and is called on that object (e.g., `object.method()`), typically operating on the object's data.\n",
        "\n",
        "The key difference is that methods are tied to objects or classes, while functions are standalone.\n",
        "\n",
        "##Q2. Explain the concept of function arguments and parameters in Python.\n",
        "\n",
        "Ans: In Python:\n",
        "\n",
        "- **Parameters** are the variables defined in a function's signature to receive values when the function is called.\n",
        "- **Arguments** are the actual values passed to the function when calling it.\n",
        "\n",
        "### Types:\n",
        "- **Positional Arguments**: Passed in the same order as the parameters.\n",
        "- **Keyword Arguments**: Passed by explicitly specifying the parameter name.\n",
        "- **Default Arguments**: Parameters with default values if no argument is provided.\n",
        "- **Variable-Length Arguments**: Allow passing a variable number of arguments using `*args` (non-keyword) and `**kwargs` (keyword).\n",
        "\n",
        "##Q3. What are the different ways to define and call a function in Python?\n",
        "\n",
        "Ans: In Python, there are several ways to define and call functions, depending on the use case:\n",
        "\n",
        "### 1. **Basic Function Definition and Call**:\n",
        "   - **Definition**: A standard function that takes parameters and performs a task.\n",
        "     ```python\n",
        "     def greet(name):\n",
        "         print(f\"Hello, {name}!\")\n",
        "     ```\n",
        "   - **Call**:\n",
        "     ```python\n",
        "     greet(\"Alice\")  # Calling the function\n",
        "     ```\n",
        "\n",
        "### 2. **Function with Return Value**:\n",
        "   - **Definition**: A function that returns a result.\n",
        "     ```python\n",
        "     def add(a, b):\n",
        "         return a + b\n",
        "     ```\n",
        "   - **Call**:\n",
        "     ```python\n",
        "     result = add(2, 3)  # Calling the function and storing the result\n",
        "     print(result)  # Output: 5\n",
        "     ```\n",
        "\n",
        "### 3. **Function with Default Arguments**:\n",
        "   - **Definition**: A function that uses default values for parameters if none are provided.\n",
        "     ```python\n",
        "     def greet(name=\"Guest\"):\n",
        "         print(f\"Hello, {name}!\")\n",
        "     ```\n",
        "   - **Call**:\n",
        "     ```python\n",
        "     greet()          # Uses default argument \"Guest\"\n",
        "     greet(\"Alice\")   # Uses provided argument \"Alice\"\n",
        "     ```\n",
        "\n",
        "### 4. **Function with Variable-Length Arguments**:\n",
        "   - **Definition**: Functions that can accept a variable number of positional (`*args`) or keyword arguments (`**kwargs`).\n",
        "     ```python\n",
        "     def greet(*names):  # Accepts any number of positional arguments\n",
        "         for name in names:\n",
        "             print(f\"Hello, {name}!\")\n",
        "     \n",
        "     def info(**details):  # Accepts keyword arguments\n",
        "         print(details)\n",
        "     ```\n",
        "   - **Call**:\n",
        "     ```python\n",
        "     greet(\"Alice\", \"Bob\", \"Charlie\")  # Positional arguments\n",
        "     info(name=\"Alice\", age=25)        # Keyword arguments\n",
        "     ```\n",
        "\n",
        "### 5. **Lambda Functions (Anonymous Functions)**:\n",
        "   - **Definition**: A small anonymous function defined using the `lambda` keyword. Typically used for short, simple operations.\n",
        "     ```python\n",
        "     add = lambda a, b: a + b\n",
        "     ```\n",
        "   - **Call**:\n",
        "     ```python\n",
        "     result = add(2, 3)\n",
        "     print(result)  # Output: 5\n",
        "     ```\n",
        "\n",
        "### 6. **Recursive Function**:\n",
        "   - **Definition**: A function that calls itself to solve smaller instances of a problem.\n",
        "     ```python\n",
        "     def factorial(n):\n",
        "         if n == 0:\n",
        "             return 1\n",
        "         else:\n",
        "             return n * factorial(n - 1)\n",
        "     ```\n",
        "   - **Call**:\n",
        "     ```python\n",
        "     print(factorial(5))  # Output: 120\n",
        "     ```\n",
        "\n",
        "These are the different ways to define and call functions in Python, allowing flexibility in how functions are structured and used in code.\n"
      ],
      "metadata": {
        "id": "E2za65Nttebu"
      }
    },
    {
      "cell_type": "markdown",
      "source": [
        "##Q4. What is the purpose of the `return` statement in a Python function?\n",
        "\n",
        "Ans: The purpose of the `return` statement in a Python function is to **exit the function** and optionally **send a value back** to the caller. It allows the function to output a result, which can be used elsewhere in the program.\n",
        "\n",
        "### Key points about the `return` statement:\n",
        "1. **Ends Function Execution**: When `return` is encountered, the function stops executing, and no code after it is run.\n",
        "2. **Returns a Value**: The value or expression following `return` is sent back to the caller, and it can be stored or used in further computations.\n",
        "3. **Optional**: If no `return` statement is provided, the function implicitly returns `None`.\n",
        "\n",
        "### Example:\n",
        "```python\n",
        "def add(a, b):\n",
        "    return a + b  # The function returns the sum of a and b\n",
        "\n",
        "result = add(3, 4)  # The result is returned and stored in the variable 'result'\n",
        "print(result)  # Output: 7\n",
        "```\n",
        "\n",
        "In this example, the `return` statement allows the function `add()` to provide the sum of `a` and `b` back to the caller.\n",
        "\n",
        "##Q5. What are iterators in Python and how do they differ from iterables?\n",
        "\n",
        "Ans: In Python:\n",
        "\n",
        "### **Iterator**:\n",
        "- An **iterator** is an object that allows you to iterate over a sequence of data (like a list, tuple, etc.).\n",
        "- It has two key methods:\n",
        "  1. `__iter__()` – Returns the iterator object itself.\n",
        "  2. `__next__()` – Returns the next item in the sequence. When no more items are left, it raises a `StopIteration` exception.\n",
        "  \n",
        "Example:\n",
        "```python\n",
        "my_list = [1, 2, 3]\n",
        "my_iter = iter(my_list)  # Creating an iterator\n",
        "\n",
        "print(next(my_iter))  # Output: 1\n",
        "print(next(my_iter))  # Output: 2\n",
        "print(next(my_iter))  # Output: 3\n",
        "# next(my_iter)  # Raises StopIteration\n",
        "```\n",
        "\n",
        "### **Iterable**:\n",
        "- An **iterable** is any object that can return an iterator, meaning it can be used in a `for` loop or passed to `iter()`.\n",
        "- Examples of iterables include lists, tuples, strings, and dictionaries.\n",
        "\n",
        "Example:\n",
        "```python\n",
        "my_list = [1, 2, 3]  # A list is an iterable\n",
        "for item in my_list:  # You can iterate over it\n",
        "    print(item)\n",
        "```\n",
        "\n",
        "### **Key Difference**:\n",
        "- An **iterable** is an object that can be used to obtain an iterator (it implements the `__iter__()` method).\n",
        "- An **iterator** is the object that performs the iteration and yields values one by one (it implements the `__next__()` method).\n",
        "\n",
        "##Q6. Explain the concept of generators in Python and how they are defined.\n",
        "\n",
        "Ans:### **Generators in Python**:\n",
        "A **generator** is a special type of iterator in Python that allows you to iterate over a sequence of values. It is more memory efficient than lists because it generates values one at a time as needed, rather than storing all of them in memory at once.\n",
        "\n",
        "### **Defining a Generator**:\n",
        "Generators can be defined using a function with the `yield` statement. Unlike a normal function, which returns a value and exits, a generator function yields values and can resume from the point where it left off.\n",
        "\n",
        "### **Example**:\n",
        "```python\n",
        "def count_up_to(max):\n",
        "    count = 1\n",
        "    while count <= max:\n",
        "        yield count  # Yield the current value and pause\n",
        "        count += 1\n",
        "\n",
        "# Create a generator\n",
        "counter = count_up_to(5)\n",
        "\n",
        "# Iterating over the generator\n",
        "for num in counter:\n",
        "    print(num)  # Output: 1, 2, 3, 4, 5\n",
        "```\n",
        "\n",
        "\n",
        "##Q7. What are the advantages of using generators over regular functions?\n",
        "\n",
        "Ans:The advantages of using **generators** over regular functions are:\n",
        "\n",
        "1. **Memory Efficiency**: Generators yield one value at a time, so they don't store the entire sequence in memory.\n",
        "2. **Lazy Evaluation**: Values are computed only when needed, making them ideal for large or infinite datasets.\n",
        "3. **Performance**: Generators are faster for large data as they avoid creating and returning large collections.\n",
        "4. **State Retention**: Generators maintain their state between `yield` calls, allowing iteration to resume without recomputing from scratch.\n",
        "5. **Cleaner Code**: They simplify iteration, removing the need for manual management of iterators or `next()` calls.\n",
        "\n",
        "##Q8. What is a lambda function in Python and when is it typically used?\n",
        "\n",
        "Ans:A **lambda function** in Python is a small, anonymous function defined using the `lambda` keyword. It can have any number of arguments but can only contain a single expression. The expression is evaluated and returned automatically.\n",
        "\n",
        "### **Syntax**:\n",
        "```python\n",
        "lambda arguments: expression\n",
        "```\n",
        "\n",
        "### **When is it typically used?**:\n",
        "- **For simple operations**: When a small, short function is needed temporarily.\n",
        "- **In functional programming**: Often used with functions like `map()`, `filter()`, and `sorted()` where a small function is required as an argument.\n",
        "- **In cases where defining a full function is unnecessary**: When you need a quick function without the overhead of a formal function definition.\n",
        "\n",
        "### **Example**:\n",
        "```python\n",
        "# Lambda function to square a number\n",
        "square = lambda x: x * x\n",
        "print(square(5))  # Output: 25\n",
        "```\n",
        "\n",
        "### **Common Use Cases**:\n",
        "1. **Sorting with custom key**:\n",
        "   ```python\n",
        "   data = [(1, 'apple'), (2, 'orange'), (3, 'banana')]\n",
        "   data.sort(key=lambda x: x[1])  # Sort by the second element (fruit name)\n",
        "   ```\n",
        "\n",
        "2. **Using with `map()`**:\n",
        "   ```python\n",
        "   numbers = [1, 2, 3, 4]\n",
        "   result = list(map(lambda x: x * 2, numbers))  # Output: [2, 4, 6, 8]\n",
        "   ```\n",
        "\n",
        "##Q9. Explain the purpose and usage of the `map()` function in Python.\n",
        "\n",
        "Ans:The **`map()`** function in Python applies a given function to all items in an iterable (like a list or tuple) and returns an iterator with the results.\n",
        "\n",
        "### **Syntax**:\n",
        "```python\n",
        "map(function, iterable)\n",
        "```\n",
        "\n",
        "### **Purpose**:\n",
        "- It is used to transform each element of an iterable by applying a specified function.\n",
        "\n",
        "### **Usage**:\n",
        "- It allows you to process and transform data in a concise way, especially when combined with a lambda function.\n",
        "\n",
        "### **Example**:\n",
        "```python\n",
        "numbers = [1, 2, 3, 4]\n",
        "squared_numbers = map(lambda x: x * x, numbers)\n",
        "print(list(squared_numbers))  # Output: [1, 4, 9, 16]\n",
        "```\n",
        "\n",
        "In short, `map()` is used for applying a function to each element of an iterable, providing a more efficient and readable alternative to loops.\n",
        "\n",
        "##Q10. What is the difference between `map()`, `reduce()`, and `filter()` functions in Python?\n",
        "\n",
        "Ans: The **`map()`**, **`reduce()`**, and **`filter()`** functions are all used for processing iterables, but they serve different purposes:\n",
        "\n",
        "1. **`map()`**:\n",
        "   - **Purpose**: Applies a given function to each item in an iterable and returns an iterator with the results.\n",
        "   - **Usage**: Transforms each element individually.\n",
        "   - **Example**: `map(lambda x: x * 2, [1, 2, 3])` → `[2, 4, 6]`\n",
        "\n",
        "2. **`reduce()`** (from `functools` module):\n",
        "   - **Purpose**: Applies a binary function (function with two arguments) cumulatively to the items of an iterable, reducing the iterable to a single value.\n",
        "   - **Usage**: Combines elements by applying the function recursively.\n",
        "   - **Example**: `reduce(lambda x, y: x + y, [1, 2, 3, 4])` → `10`\n",
        "\n",
        "3. **`filter()`**:\n",
        "   - **Purpose**: Filters elements from an iterable based on a function that returns a boolean value (True or False). Only elements where the function returns `True` are included.\n",
        "   - **Usage**: Filters out elements that do not meet a condition.\n",
        "   - **Example**: `filter(lambda x: x > 2, [1, 2, 3, 4])` → `[3, 4]`\n",
        "\n",
        "### Summary:\n",
        "- **`map()`** transforms elements.\n",
        "- **`reduce()`** reduces the iterable to a single value.\n",
        "- **`filter()`** filters elements based on a condition.\n",
        "\n",
        "##Q11. Using pen & Paper write the internal mechanism for sum operation using  reduce function on this given list:[47,11,42,13];\n",
        "\n",
        "Ans: To understand how the **`reduce()`** function works internally for a **sum operation** on the list `[47, 11, 42, 13]`, let's break it down step by step.\n",
        "\n",
        "### Given List:\n",
        "```python\n",
        "[47, 11, 42, 13]\n",
        "```\n",
        "\n",
        "### Using the `reduce()` function:\n",
        "We want to perform the sum operation, so we will use `reduce()` along with a lambda function that adds two numbers.\n",
        "\n",
        "### **Code Example**:\n",
        "```python\n",
        "from functools import reduce\n",
        "\n",
        "result = reduce(lambda x, y: x + y, [47, 11, 42, 13])\n",
        "```\n",
        "\n",
        "### **Step-by-Step Mechanism**:\n",
        "\n",
        "1. **Initial Call**:\n",
        "   - `reduce()` starts by applying the lambda function to the **first two elements** of the list: `47` and `11`.\n",
        "   - `lambda 47, 11` → `47 + 11 = 58`.\n",
        "\n",
        "2. **Second Step**:\n",
        "   - The result `58` becomes the first argument (`x`), and the next element `42` is used as the second argument (`y`).\n",
        "   - `lambda 58, 42` → `58 + 42 = 100`.\n",
        "\n",
        "3. **Third Step**:\n",
        "   - Now, the result `100` becomes the first argument (`x`), and the next element `13` is used as the second argument (`y`).\n",
        "   - `lambda 100, 13` → `100 + 13 = 113`.\n",
        "\n",
        "### **Final Result**:\n",
        "After all the elements have been processed, the final result is `113`.\n",
        "\n",
        "### **Internal Mechanism Summary**:\n",
        "- First, the function starts by adding `47` and `11`, giving `58`.\n",
        "- Then, it adds `58` and `42`, resulting in `100`.\n",
        "- Finally, it adds `100` and `13`, producing the final result `113`.\n",
        "\n",
        "Thus, the sum of the list `[47, 11, 42, 13]` is **113**.\n",
        "\n",
        "##Practical Questions:\n",
        "\n",
        "##Q1. Write a Python function that takes a list of numbers as input and returns the sum of all even numbers in the list.\n",
        "\n",
        "Ans:Here is a Python function that takes a list of numbers as input and returns the sum of all even numbers in the list:\n",
        "\n",
        "\n",
        "\n"
      ],
      "metadata": {
        "id": "bceE6i_VCLQ5"
      }
    },
    {
      "cell_type": "code",
      "source": [
        "def sum_even_numbers(numbers):\n",
        "    # Initialize sum to 0\n",
        "    even_sum = 0\n",
        "\n",
        "    # Iterate through the list and add even numbers to the sum\n",
        "    for num in numbers:\n",
        "        if num % 2 == 0:\n",
        "            even_sum += num\n",
        "\n",
        "    return even_sum\n",
        "\n",
        "# Example usage:\n",
        "numbers = [1, 2, 3, 4, 5, 6]\n",
        "result = sum_even_numbers(numbers)\n",
        "print(result)  # Output: 12 (2 + 4 + 6)\n"
      ],
      "metadata": {
        "colab": {
          "base_uri": "https://localhost:8080/"
        },
        "id": "urbomWV5JKkJ",
        "outputId": "4696ea33-6b39-4029-93e6-aefa5dddbd81"
      },
      "execution_count": 1,
      "outputs": [
        {
          "output_type": "stream",
          "name": "stdout",
          "text": [
            "12\n"
          ]
        }
      ]
    },
    {
      "cell_type": "markdown",
      "source": [
        "##Q2. Create a Python function that accepts a string and returns the reverse of that string.\n",
        "\n",
        "Ans:Here is a Python function that accepts a string and returns the reverse of that string:\n"
      ],
      "metadata": {
        "id": "P7ug4rmrJWWv"
      }
    },
    {
      "cell_type": "code",
      "source": [
        "def reverse_string(s):\n",
        "    # Return the reverse of the string using slicing\n",
        "    return s[::-1]\n",
        "\n",
        "# Example usage:\n",
        "input_string = \"Hello, World!\"\n",
        "reversed_string = reverse_string(input_string)\n",
        "print(reversed_string)  # Output: \"!dlroW ,olleH\"\n"
      ],
      "metadata": {
        "colab": {
          "base_uri": "https://localhost:8080/"
        },
        "id": "Cl6qJ4jOJeW3",
        "outputId": "b142c9b6-768b-46ef-e706-18171abdcf4f"
      },
      "execution_count": 2,
      "outputs": [
        {
          "output_type": "stream",
          "name": "stdout",
          "text": [
            "!dlroW ,olleH\n"
          ]
        }
      ]
    },
    {
      "cell_type": "markdown",
      "source": [
        "##Q3. Implement a Python function that takes a list of integers and returns a new list containing the squares of each number.\n",
        "\n",
        "Ans:Here is a Python function that takes a list of integers and returns a new list containing the squares of each number:\n",
        "\n"
      ],
      "metadata": {
        "id": "MVAfMiZ0JioL"
      }
    },
    {
      "cell_type": "code",
      "source": [
        "def square_numbers(numbers):\n",
        "    # Use a list comprehension to square each number in the list\n",
        "    return [num ** 2 for num in numbers]\n",
        "\n",
        "# Example usage:\n",
        "input_list = [1, 2, 3, 4, 5]\n",
        "squared_list = square_numbers(input_list)\n",
        "print(squared_list)  # Output: [1, 4, 9, 16, 25]\n"
      ],
      "metadata": {
        "colab": {
          "base_uri": "https://localhost:8080/"
        },
        "id": "2FzGRMUsJzta",
        "outputId": "c0dfd954-95a0-411f-8f00-5e921214c1ca"
      },
      "execution_count": 3,
      "outputs": [
        {
          "output_type": "stream",
          "name": "stdout",
          "text": [
            "[1, 4, 9, 16, 25]\n"
          ]
        }
      ]
    },
    {
      "cell_type": "markdown",
      "source": [
        "##Q4. Write a Python function that checks if a given number is prime or not from 1 to 200.\n",
        "\n",
        "Ans: Here is a Python function that checks if a given number is prime or not for numbers from 1 to 200:\n"
      ],
      "metadata": {
        "id": "ZIjoi2lwJ2rG"
      }
    },
    {
      "cell_type": "code",
      "source": [
        "def is_prime(number):\n",
        "    if number < 2:\n",
        "        return False  # Numbers less than 2 are not prime\n",
        "    for i in range(2, int(number**0.5) + 1):\n",
        "        if number % i == 0:\n",
        "            return False  # If the number is divisible by any number other than 1 and itself, it is not prime\n",
        "    return True\n",
        "\n",
        "# Example usage:\n",
        "for num in range(1, 201):\n",
        "    if is_prime(num):\n",
        "        print(num)\n"
      ],
      "metadata": {
        "colab": {
          "base_uri": "https://localhost:8080/"
        },
        "id": "VYNWDfZ-KIHE",
        "outputId": "064db4b2-1ed9-46e7-e0ae-75f562998c49"
      },
      "execution_count": 4,
      "outputs": [
        {
          "output_type": "stream",
          "name": "stdout",
          "text": [
            "2\n",
            "3\n",
            "5\n",
            "7\n",
            "11\n",
            "13\n",
            "17\n",
            "19\n",
            "23\n",
            "29\n",
            "31\n",
            "37\n",
            "41\n",
            "43\n",
            "47\n",
            "53\n",
            "59\n",
            "61\n",
            "67\n",
            "71\n",
            "73\n",
            "79\n",
            "83\n",
            "89\n",
            "97\n",
            "101\n",
            "103\n",
            "107\n",
            "109\n",
            "113\n",
            "127\n",
            "131\n",
            "137\n",
            "139\n",
            "149\n",
            "151\n",
            "157\n",
            "163\n",
            "167\n",
            "173\n",
            "179\n",
            "181\n",
            "191\n",
            "193\n",
            "197\n",
            "199\n"
          ]
        }
      ]
    },
    {
      "cell_type": "markdown",
      "source": [
        "##Q5. Create an iterator class in Python that generates the Fibonacci sequence up to a specified number of terms.\n",
        "\n",
        "Ans:Here is an iterator class in Python that generates the Fibonacci sequence up to a specified number of terms:\n"
      ],
      "metadata": {
        "id": "lSmmM3ZAKXv0"
      }
    },
    {
      "cell_type": "code",
      "source": [
        "class FibonacciIterator:\n",
        "    def __init__(self, n):\n",
        "        self.n = n  # Number of terms to generate\n",
        "        self.a, self.b = 0, 1  # Initial values for Fibonacci sequence\n",
        "        self.count = 0  # To keep track of the number of terms generated\n",
        "\n",
        "    def __iter__(self):\n",
        "        return self  # The iterator object itself\n",
        "\n",
        "    def __next__(self):\n",
        "        if self.count < self.n:\n",
        "            # Return the current Fibonacci number and update to the next\n",
        "            fib_number = self.a\n",
        "            self.a, self.b = self.b, self.a + self.b  # Update Fibonacci sequence\n",
        "            self.count += 1\n",
        "            return fib_number\n",
        "        else:\n",
        "            # Stop the iteration when we reach the specified number of terms\n",
        "            raise StopIteration\n",
        "\n",
        "# Example usage:\n",
        "fib = FibonacciIterator(10)  # Generate first 10 Fibonacci numbers\n",
        "for num in fib:\n",
        "    print(num)\n"
      ],
      "metadata": {
        "colab": {
          "base_uri": "https://localhost:8080/"
        },
        "id": "gmU5pcdnKtfK",
        "outputId": "f4a36930-3aa7-4628-da66-357eb81f7baf"
      },
      "execution_count": 5,
      "outputs": [
        {
          "output_type": "stream",
          "name": "stdout",
          "text": [
            "0\n",
            "1\n",
            "1\n",
            "2\n",
            "3\n",
            "5\n",
            "8\n",
            "13\n",
            "21\n",
            "34\n"
          ]
        }
      ]
    },
    {
      "cell_type": "markdown",
      "source": [
        "##Q6. Write a generator function in Python that yields the powers of 2 up to a given exponent.\n",
        "\n",
        "Ans: Here is a Python generator function that yields the powers of 2 up to a given exponent:"
      ],
      "metadata": {
        "id": "RMtGWUNcK0J1"
      }
    },
    {
      "cell_type": "code",
      "source": [
        "def powers_of_2(exponent):\n",
        "    for i in range(exponent + 1):\n",
        "        yield 2 ** i\n",
        "\n",
        "# Example usage:\n",
        "for power in powers_of_2(5):\n",
        "    print(power)\n"
      ],
      "metadata": {
        "colab": {
          "base_uri": "https://localhost:8080/"
        },
        "id": "e4UeQ5S2LK-c",
        "outputId": "4603f7ed-98f8-419b-ab91-c0726f8575fb"
      },
      "execution_count": 6,
      "outputs": [
        {
          "output_type": "stream",
          "name": "stdout",
          "text": [
            "1\n",
            "2\n",
            "4\n",
            "8\n",
            "16\n",
            "32\n"
          ]
        }
      ]
    },
    {
      "cell_type": "markdown",
      "source": [
        "##Q7. Implement a generator function that reads a file line by line and yields each line as a string.\n",
        "\n",
        "Ans: Here is a Python generator function that reads a file line by line and yields each line as a string:\n"
      ],
      "metadata": {
        "id": "TQ5jH35QLSDQ"
      }
    },
    {
      "cell_type": "code",
      "source": [
        "def read_file_line_by_line(file_name):\n",
        "    # Open the file in read mode\n",
        "    with open(file_name, 'r') as file:\n",
        "        # Iterate through each line in the file\n",
        "        for line in file:\n",
        "            yield line.strip()  # Use strip() to remove trailing newlines\n",
        "\n",
        "# Example usage:\n",
        "# Assuming 'sample.txt' is the file you want to read\n",
        "file_name = 'sample.txt'\n",
        "\n",
        "# Loop through the generator to print each line\n",
        "for line in read_file_line_by_line(file_name):\n",
        "    print(line)\n"
      ],
      "metadata": {
        "id": "NMgiCmA2LyA4"
      },
      "execution_count": null,
      "outputs": []
    },
    {
      "cell_type": "markdown",
      "source": [
        "##Q8. Use a lambda function in Python to sort a list of tuples based on the second element of each tuple.\n",
        "\n",
        "Ans: Here is how you can use a lambda function in Python to sort a list of tuples based on the second element of each tuple:\n",
        "\n",
        "\n",
        "\n",
        "\n"
      ],
      "metadata": {
        "id": "IZkH5xctLz4j"
      }
    },
    {
      "cell_type": "code",
      "source": [
        "# List of tuples\n",
        "tuple_list = [(1, 5), (3, 2), (4, 8), (2, 6)]\n",
        "\n",
        "# Sorting the list of tuples based on the second element of each tuple\n",
        "sorted_list = sorted(tuple_list, key=lambda x: x[1])\n",
        "\n",
        "# Print the sorted list\n",
        "print(sorted_list)\n"
      ],
      "metadata": {
        "colab": {
          "base_uri": "https://localhost:8080/"
        },
        "id": "ksOCv_FANHqu",
        "outputId": "2453ccd7-f652-48ae-ec90-ed4daaf17411"
      },
      "execution_count": 9,
      "outputs": [
        {
          "output_type": "stream",
          "name": "stdout",
          "text": [
            "[(3, 2), (1, 5), (2, 6), (4, 8)]\n"
          ]
        }
      ]
    },
    {
      "cell_type": "markdown",
      "source": [
        "##Q9. Write a Python program that uses `map()` to convert a list of temperatures from Celsius to Fahrenheit.\n",
        "\n",
        "Ans: Here is a Python program that uses the map() function to convert a list of temperatures from Celsius to Fahrenheit:\n",
        "\n"
      ],
      "metadata": {
        "id": "CQ5bMwR7NJ0s"
      }
    },
    {
      "cell_type": "code",
      "source": [
        "# Function to convert Celsius to Fahrenheit\n",
        "def celsius_to_fahrenheit(celsius):\n",
        "    return (celsius * 9/5) + 32\n",
        "\n",
        "# List of temperatures in Celsius\n",
        "celsius_temps = [0, 20, 37, 100, -10]\n",
        "\n",
        "# Use map() to convert Celsius to Fahrenheit\n",
        "fahrenheit_temps = list(map(celsius_to_fahrenheit, celsius_temps))\n",
        "\n",
        "# Print the converted temperatures\n",
        "print(fahrenheit_temps)\n"
      ],
      "metadata": {
        "colab": {
          "base_uri": "https://localhost:8080/"
        },
        "id": "o4TMFnwGNp-2",
        "outputId": "29df45eb-11f6-4979-d828-cdf102f1ce5b"
      },
      "execution_count": 10,
      "outputs": [
        {
          "output_type": "stream",
          "name": "stdout",
          "text": [
            "[32.0, 68.0, 98.6, 212.0, 14.0]\n"
          ]
        }
      ]
    },
    {
      "cell_type": "markdown",
      "source": [
        "##Q10. Create a Python program that uses filter() to remove all the vowels from a given string.\n",
        "\n",
        "Ans:Here is a Python program that uses the filter() function to remove all the vowels from a given string:\n",
        "\n"
      ],
      "metadata": {
        "id": "fNqCqzqeNuYx"
      }
    },
    {
      "cell_type": "code",
      "source": [
        "# Function to check if a character is a vowel\n",
        "def is_not_vowel(char):\n",
        "    return char.lower() not in 'aeiou'\n",
        "\n",
        "# Given string\n",
        "input_string = \"Hello, World!\"\n",
        "\n",
        "# Use filter() to remove vowels\n",
        "filtered_string = ''.join(filter(is_not_vowel, input_string))\n",
        "\n",
        "# Print the result\n",
        "print(filtered_string)\n"
      ],
      "metadata": {
        "colab": {
          "base_uri": "https://localhost:8080/"
        },
        "id": "2wNIZP0OOQEK",
        "outputId": "e83c0199-928a-4c77-edda-de3c78e61a01"
      },
      "execution_count": 11,
      "outputs": [
        {
          "output_type": "stream",
          "name": "stdout",
          "text": [
            "Hll, Wrld!\n"
          ]
        }
      ]
    }
  ]
}